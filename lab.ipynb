{
 "cells": [
  {
   "cell_type": "code",
   "execution_count": 6,
   "id": "wrapped-boating",
   "metadata": {},
   "outputs": [
    {
     "name": "stdout",
     "output_type": "stream",
     "text": [
      "2021-03-11 02:43:00.469490\n",
      "/Volumes/GoogleDrive/My Drive/01_Mac2021/05_Work/00_Pruebas técnicas/01_software_engenieer/00_agranimo\n"
     ]
    },
    {
     "ename": "ModuleNotFoundError",
     "evalue": "No module named 'statsmodels'",
     "output_type": "error",
     "traceback": [
      "\u001b[0;31m---------------------------------------------------------------------------\u001b[0m",
      "\u001b[0;31mModuleNotFoundError\u001b[0m                       Traceback (most recent call last)",
      "\u001b[0;32m<ipython-input-6-15a1bd152a73>\u001b[0m in \u001b[0;36m<module>\u001b[0;34m\u001b[0m\n\u001b[1;32m     19\u001b[0m \u001b[0;32mfrom\u001b[0m \u001b[0mscipy\u001b[0m\u001b[0;34m.\u001b[0m\u001b[0moptimize\u001b[0m \u001b[0;32mimport\u001b[0m \u001b[0mminimize\u001b[0m              \u001b[0;31m# for function minimization\u001b[0m\u001b[0;34m\u001b[0m\u001b[0;34m\u001b[0m\u001b[0m\n\u001b[1;32m     20\u001b[0m \u001b[0;34m\u001b[0m\u001b[0m\n\u001b[0;32m---> 21\u001b[0;31m \u001b[0;32mimport\u001b[0m \u001b[0mstatsmodels\u001b[0m\u001b[0;34m.\u001b[0m\u001b[0mformula\u001b[0m\u001b[0;34m.\u001b[0m\u001b[0mapi\u001b[0m \u001b[0;32mas\u001b[0m \u001b[0msmf\u001b[0m            \u001b[0;31m# statistics and econometrics\u001b[0m\u001b[0;34m\u001b[0m\u001b[0;34m\u001b[0m\u001b[0m\n\u001b[0m\u001b[1;32m     22\u001b[0m \u001b[0;32mimport\u001b[0m \u001b[0mstatsmodels\u001b[0m\u001b[0;34m.\u001b[0m\u001b[0mtsa\u001b[0m\u001b[0;34m.\u001b[0m\u001b[0mapi\u001b[0m \u001b[0;32mas\u001b[0m \u001b[0msmt\u001b[0m\u001b[0;34m\u001b[0m\u001b[0;34m\u001b[0m\u001b[0m\n\u001b[1;32m     23\u001b[0m \u001b[0;32mimport\u001b[0m \u001b[0mstatsmodels\u001b[0m\u001b[0;34m.\u001b[0m\u001b[0mapi\u001b[0m \u001b[0;32mas\u001b[0m \u001b[0msm\u001b[0m\u001b[0;34m\u001b[0m\u001b[0;34m\u001b[0m\u001b[0m\n",
      "\u001b[0;31mModuleNotFoundError\u001b[0m: No module named 'statsmodels'"
     ]
    }
   ],
   "source": [
    "import warnings                                  # `do not disturbe` mode\n",
    "warnings.filterwarnings('ignore')\n",
    "from datetime import datetime\n",
    "print(datetime.now())\n",
    "import os\n",
    "print(os.getcwd())\n",
    "\n",
    "#====\n",
    "import numpy as np\n",
    "import pandas as pd\n",
    "import pandasql\n",
    "#import sqlalchemy\n",
    "import pymongo\n",
    "\n",
    "\n",
    "import matplotlib.pyplot as plt                  # plots\n",
    "import seaborn as sns                            # more plots\n",
    "from dateutil.relativedelta import relativedelta # working with dates with style\n",
    "from scipy.optimize import minimize              # for function minimization\n",
    "\n",
    "import statsmodels.formula.api as smf            # statistics and econometrics\n",
    "import statsmodels.tsa.api as smt\n",
    "import statsmodels.api as sm\n",
    "import scipy.stats as scs\n",
    "\n",
    "from itertools import product                    # some useful functions\n",
    "from tqdm import tqdm_notebook\n",
    "\n",
    "\n",
    "\n",
    "%matplotlib inline\n"
   ]
  },
  {
   "cell_type": "code",
   "execution_count": 2,
   "id": "million-investment",
   "metadata": {},
   "outputs": [
    {
     "name": "stdout",
     "output_type": "stream",
     "text": [
      "<class 'pandas.core.frame.DataFrame'>\n",
      "RangeIndex: 459556 entries, 0 to 459555\n",
      "Data columns (total 34 columns):\n",
      " #   Column          Non-Null Count   Dtype  \n",
      "---  ------          --------------   -----  \n",
      " 0   _id             459556 non-null  object \n",
      " 1   createdAt       459556 non-null  object \n",
      " 2   packet.cmd      459556 non-null  object \n",
      " 3   packet.dup      459556 non-null  bool   \n",
      " 4   packet.length   459556 non-null  int64  \n",
      " 5   packet.payload  459556 non-null  object \n",
      " 6   packet.qos      459556 non-null  int64  \n",
      " 7   packet.retain   459556 non-null  bool   \n",
      " 8   packet.topic    459556 non-null  object \n",
      " 9   payload.BFMW    340043 non-null  float64\n",
      " 10  payload.BSID    340043 non-null  object \n",
      " 11  payload.DID     459556 non-null  object \n",
      " 12  payload.FMW     452372 non-null  float64\n",
      " 13  payload.TMS     452372 non-null  object \n",
      " 14  payload.bvol    452372 non-null  float64\n",
      " 15  payload.hum1    123892 non-null  float64\n",
      " 16  payload.lwet    35617 non-null   float64\n",
      " 17  payload.prec    8311 non-null    float64\n",
      " 18  payload.sea1    12959 non-null   float64\n",
      " 19  payload.sec1    12959 non-null   float64\n",
      " 20  payload.smo1    315521 non-null  float64\n",
      " 21  payload.smo2    306245 non-null  float64\n",
      " 22  payload.smo3    295858 non-null  float64\n",
      " 23  payload.smo4    295858 non-null  float64\n",
      " 24  payload.solr    123892 non-null  float64\n",
      " 25  payload.stm1    328480 non-null  float64\n",
      " 26  payload.stm2    306245 non-null  float64\n",
      " 27  payload.stm3    295858 non-null  float64\n",
      " 28  payload.stm4    295858 non-null  float64\n",
      " 29  payload.tem1    123892 non-null  float64\n",
      " 30  payload.wind    4807 non-null    float64\n",
      " 31  payload.wins    4807 non-null    float64\n",
      " 32  processed       459556 non-null  bool   \n",
      " 33  topic           459556 non-null  object \n",
      "dtypes: bool(3), float64(20), int64(2), object(9)\n",
      "memory usage: 110.0+ MB\n",
      "2021-03-10 23:38:15.991817\n"
     ]
    }
   ],
   "source": [
    "\n",
    "df = pd.read_csv(\"docs/Event.csv\", \n",
    "                 #index_col= [\"payload.TMS\"],\n",
    "                 parse_dates = [\"payload.TMS\"], \n",
    "                 dtype = {\n",
    "                         #\"payload.TMS\": 'datetime64[ns]'\n",
    "                         }\n",
    "                )\n",
    "\n",
    "df.info()\n",
    "df = df.sort_values(by=\"payload.TMS\")\n",
    "print(datetime.now())"
   ]
  },
  {
   "cell_type": "markdown",
   "id": "above-depression",
   "metadata": {},
   "source": [
    "##### Let's check the columns in our database"
   ]
  },
  {
   "cell_type": "code",
   "execution_count": 3,
   "id": "innocent-sleeve",
   "metadata": {},
   "outputs": [
    {
     "name": "stdout",
     "output_type": "stream",
     "text": [
      "2021-03-10 23:38:16.013854\n",
      "<class 'pandas.core.frame.DataFrame'>\n",
      "Int64Index: 452372 entries, 351921 to 459553\n",
      "Data columns (total 6 columns):\n",
      " #   Column        Non-Null Count   Dtype         \n",
      "---  ------        --------------   -----         \n",
      " 0   payload_DID   452372 non-null  object        \n",
      " 1   payload_hum1  123892 non-null  float64       \n",
      " 2   payload_TMS   452372 non-null  datetime64[ns]\n",
      " 3   payload_prec  8311 non-null    float64       \n",
      " 4   payload_solr  123892 non-null  float64       \n",
      " 5   payload_tem1  123892 non-null  float64       \n",
      "dtypes: datetime64[ns](1), float64(4), object(1)\n",
      "memory usage: 24.2+ MB\n"
     ]
    }
   ],
   "source": [
    "print(datetime.now())\n",
    "\n",
    "#Columns refered to payload\n",
    "columns_payload = [col for col in df.columns if col.startswith(\"payload\")]\n",
    "\n",
    "#Columns refered to packet \n",
    "columns_packet = [col for col in df.columns if col.startswith(\"packet\")]\n",
    "\n",
    "columns = [#\"_id\",\n",
    "           #\"processed\",\n",
    "           \"payload.DID\",\n",
    "           \"payload.hum1\",\n",
    "           \"payload.TMS\",\n",
    "           \"payload.prec\",\n",
    "           \"payload.solr\",\n",
    "           \"payload.tem1\",\n",
    "          ]\n",
    "base = df[columns]\n",
    "\n",
    "rename_columns = { \n",
    "                   #\"_id\":\"id\",\n",
    "                   #\"processed\":\"processed\",\n",
    "                   \"payload.DID\":\"payload_DID\",\n",
    "                   \"payload.hum1\":\"payload_hum1\",\n",
    "                   \"payload.TMS\":\"payload_TMS\",\n",
    "                   \"payload.prec\":\"payload_prec\",\n",
    "                   \"payload.solr\":\"payload_solr\",\n",
    "                   \"payload.tem1\":\"payload_tem1\",\n",
    "                    }\n",
    "base = base.rename(columns = rename_columns)\n",
    "\n",
    "base = base.dropna(subset = [\"payload_TMS\"])\n",
    "base[\"payload_TMS\"] = pd.to_datetime(base.payload_TMS, unit='s')\n",
    "base = base.sort_values(by=\"payload_TMS\")\n",
    "base.info()\n"
   ]
  },
  {
   "cell_type": "code",
   "execution_count": 4,
   "id": "wanted-humanitarian",
   "metadata": {},
   "outputs": [
    {
     "name": "stdout",
     "output_type": "stream",
     "text": [
      "2021-03-10 23:38:16.674340\n",
      "351921   2000-01-01 00:00:02\n",
      "402964   2000-01-01 00:00:02\n",
      "247571   2000-01-01 00:00:02\n",
      "274498   2000-01-01 00:00:02\n",
      "274730   2000-01-01 00:00:02\n",
      "Name: payload_TMS, dtype: datetime64[ns]\n",
      "<class 'pandas.core.frame.DataFrame'>\n",
      "DatetimeIndex: 452372 entries, 2000-01-01 00:00:02+01:00 to 2021-03-05 12:16:36+01:00\n",
      "Data columns (total 6 columns):\n",
      " #   Column        Non-Null Count   Dtype         \n",
      "---  ------        --------------   -----         \n",
      " 0   payload_DID   452372 non-null  object        \n",
      " 1   payload_hum1  123892 non-null  float64       \n",
      " 2   payload_TMS   452372 non-null  datetime64[ns]\n",
      " 3   payload_prec  8311 non-null    float64       \n",
      " 4   payload_solr  123892 non-null  float64       \n",
      " 5   payload_tem1  123892 non-null  float64       \n",
      "dtypes: datetime64[ns](1), float64(4), object(1)\n",
      "memory usage: 24.2+ MB\n"
     ]
    },
    {
     "data": {
      "text/html": [
       "<div>\n",
       "<style scoped>\n",
       "    .dataframe tbody tr th:only-of-type {\n",
       "        vertical-align: middle;\n",
       "    }\n",
       "\n",
       "    .dataframe tbody tr th {\n",
       "        vertical-align: top;\n",
       "    }\n",
       "\n",
       "    .dataframe thead th {\n",
       "        text-align: right;\n",
       "    }\n",
       "</style>\n",
       "<table border=\"1\" class=\"dataframe\">\n",
       "  <thead>\n",
       "    <tr style=\"text-align: right;\">\n",
       "      <th></th>\n",
       "      <th>payload_DID</th>\n",
       "      <th>payload_hum1</th>\n",
       "      <th>payload_TMS</th>\n",
       "      <th>payload_prec</th>\n",
       "      <th>payload_solr</th>\n",
       "      <th>payload_tem1</th>\n",
       "    </tr>\n",
       "    <tr>\n",
       "      <th>payload_TMS_index</th>\n",
       "      <th></th>\n",
       "      <th></th>\n",
       "      <th></th>\n",
       "      <th></th>\n",
       "      <th></th>\n",
       "      <th></th>\n",
       "    </tr>\n",
       "  </thead>\n",
       "  <tbody>\n",
       "    <tr>\n",
       "      <th>2000-01-01 00:00:02+01:00</th>\n",
       "      <td>5_157</td>\n",
       "      <td>NaN</td>\n",
       "      <td>2000-01-01 00:00:02</td>\n",
       "      <td>NaN</td>\n",
       "      <td>NaN</td>\n",
       "      <td>NaN</td>\n",
       "    </tr>\n",
       "    <tr>\n",
       "      <th>2000-01-01 00:00:02+01:00</th>\n",
       "      <td>5_156</td>\n",
       "      <td>NaN</td>\n",
       "      <td>2000-01-01 00:00:02</td>\n",
       "      <td>NaN</td>\n",
       "      <td>NaN</td>\n",
       "      <td>NaN</td>\n",
       "    </tr>\n",
       "    <tr>\n",
       "      <th>2000-01-01 00:00:02+01:00</th>\n",
       "      <td>5_156</td>\n",
       "      <td>NaN</td>\n",
       "      <td>2000-01-01 00:00:02</td>\n",
       "      <td>NaN</td>\n",
       "      <td>NaN</td>\n",
       "      <td>NaN</td>\n",
       "    </tr>\n",
       "    <tr>\n",
       "      <th>2000-01-01 00:00:02+01:00</th>\n",
       "      <td>5_157</td>\n",
       "      <td>NaN</td>\n",
       "      <td>2000-01-01 00:00:02</td>\n",
       "      <td>NaN</td>\n",
       "      <td>NaN</td>\n",
       "      <td>NaN</td>\n",
       "    </tr>\n",
       "    <tr>\n",
       "      <th>2000-01-01 00:00:02+01:00</th>\n",
       "      <td>5_150</td>\n",
       "      <td>NaN</td>\n",
       "      <td>2000-01-01 00:00:02</td>\n",
       "      <td>NaN</td>\n",
       "      <td>NaN</td>\n",
       "      <td>NaN</td>\n",
       "    </tr>\n",
       "  </tbody>\n",
       "</table>\n",
       "</div>"
      ],
      "text/plain": [
       "                          payload_DID  payload_hum1         payload_TMS  \\\n",
       "payload_TMS_index                                                         \n",
       "2000-01-01 00:00:02+01:00       5_157           NaN 2000-01-01 00:00:02   \n",
       "2000-01-01 00:00:02+01:00       5_156           NaN 2000-01-01 00:00:02   \n",
       "2000-01-01 00:00:02+01:00       5_156           NaN 2000-01-01 00:00:02   \n",
       "2000-01-01 00:00:02+01:00       5_157           NaN 2000-01-01 00:00:02   \n",
       "2000-01-01 00:00:02+01:00       5_150           NaN 2000-01-01 00:00:02   \n",
       "\n",
       "                           payload_prec  payload_solr  payload_tem1  \n",
       "payload_TMS_index                                                    \n",
       "2000-01-01 00:00:02+01:00           NaN           NaN           NaN  \n",
       "2000-01-01 00:00:02+01:00           NaN           NaN           NaN  \n",
       "2000-01-01 00:00:02+01:00           NaN           NaN           NaN  \n",
       "2000-01-01 00:00:02+01:00           NaN           NaN           NaN  \n",
       "2000-01-01 00:00:02+01:00           NaN           NaN           NaN  "
      ]
     },
     "execution_count": 4,
     "metadata": {},
     "output_type": "execute_result"
    }
   ],
   "source": [
    "print(datetime.now())\n",
    "print(base.payload_TMS.head())\n",
    "base['payload_TMS_index'] = base['payload_TMS']\n",
    "base.set_index('payload_TMS_index', inplace=True) #setting payload_TMS as index of the dataframe\n",
    "#base = base.tz_localize(\"UTC\") #converting date times with timezone information\n",
    "#When we do localize we notice that are in different time-zone. So, we better do \n",
    "base = base.tz_localize(\"Europe/Berlin\", nonexistent = 'shift_forward')\n",
    "\n",
    "base.info()\n",
    "base.head()"
   ]
  },
  {
   "cell_type": "code",
   "execution_count": 5,
   "id": "armed-greek",
   "metadata": {},
   "outputs": [
    {
     "name": "stdout",
     "output_type": "stream",
     "text": [
      "False\n"
     ]
    },
    {
     "data": {
      "text/html": [
       "<div>\n",
       "<style scoped>\n",
       "    .dataframe tbody tr th:only-of-type {\n",
       "        vertical-align: middle;\n",
       "    }\n",
       "\n",
       "    .dataframe tbody tr th {\n",
       "        vertical-align: top;\n",
       "    }\n",
       "\n",
       "    .dataframe thead th {\n",
       "        text-align: right;\n",
       "    }\n",
       "</style>\n",
       "<table border=\"1\" class=\"dataframe\">\n",
       "  <thead>\n",
       "    <tr style=\"text-align: right;\">\n",
       "      <th></th>\n",
       "      <th>payload_DID</th>\n",
       "      <th>payload_hum1</th>\n",
       "      <th>payload_TMS</th>\n",
       "      <th>payload_prec</th>\n",
       "      <th>payload_solr</th>\n",
       "      <th>payload_tem1</th>\n",
       "    </tr>\n",
       "    <tr>\n",
       "      <th>payload_TMS_index</th>\n",
       "      <th></th>\n",
       "      <th></th>\n",
       "      <th></th>\n",
       "      <th></th>\n",
       "      <th></th>\n",
       "      <th></th>\n",
       "    </tr>\n",
       "  </thead>\n",
       "  <tbody>\n",
       "    <tr>\n",
       "      <th>2021-03-05 12:15:06+01:00</th>\n",
       "      <td>5_49</td>\n",
       "      <td>NaN</td>\n",
       "      <td>2021-03-05 12:15:06</td>\n",
       "      <td>NaN</td>\n",
       "      <td>NaN</td>\n",
       "      <td>NaN</td>\n",
       "    </tr>\n",
       "    <tr>\n",
       "      <th>2021-03-05 12:15:51+01:00</th>\n",
       "      <td>1_125</td>\n",
       "      <td>59.8</td>\n",
       "      <td>2021-03-05 12:15:51</td>\n",
       "      <td>NaN</td>\n",
       "      <td>331.0</td>\n",
       "      <td>6.9</td>\n",
       "    </tr>\n",
       "    <tr>\n",
       "      <th>2021-03-05 12:15:51+01:00</th>\n",
       "      <td>1_63</td>\n",
       "      <td>82.2</td>\n",
       "      <td>2021-03-05 12:15:51</td>\n",
       "      <td>NaN</td>\n",
       "      <td>185.0</td>\n",
       "      <td>17.7</td>\n",
       "    </tr>\n",
       "    <tr>\n",
       "      <th>2021-03-05 12:16:16+01:00</th>\n",
       "      <td>1_101</td>\n",
       "      <td>77.6</td>\n",
       "      <td>2021-03-05 12:16:16</td>\n",
       "      <td>NaN</td>\n",
       "      <td>160.0</td>\n",
       "      <td>17.2</td>\n",
       "    </tr>\n",
       "    <tr>\n",
       "      <th>2021-03-05 12:16:36+01:00</th>\n",
       "      <td>1_51</td>\n",
       "      <td>95.0</td>\n",
       "      <td>2021-03-05 12:16:36</td>\n",
       "      <td>NaN</td>\n",
       "      <td>92.0</td>\n",
       "      <td>16.8</td>\n",
       "    </tr>\n",
       "  </tbody>\n",
       "</table>\n",
       "</div>"
      ],
      "text/plain": [
       "                          payload_DID  payload_hum1         payload_TMS  \\\n",
       "payload_TMS_index                                                         \n",
       "2021-03-05 12:15:06+01:00        5_49           NaN 2021-03-05 12:15:06   \n",
       "2021-03-05 12:15:51+01:00       1_125          59.8 2021-03-05 12:15:51   \n",
       "2021-03-05 12:15:51+01:00        1_63          82.2 2021-03-05 12:15:51   \n",
       "2021-03-05 12:16:16+01:00       1_101          77.6 2021-03-05 12:16:16   \n",
       "2021-03-05 12:16:36+01:00        1_51          95.0 2021-03-05 12:16:36   \n",
       "\n",
       "                           payload_prec  payload_solr  payload_tem1  \n",
       "payload_TMS_index                                                    \n",
       "2021-03-05 12:15:06+01:00           NaN           NaN           NaN  \n",
       "2021-03-05 12:15:51+01:00           NaN         331.0           6.9  \n",
       "2021-03-05 12:15:51+01:00           NaN         185.0          17.7  \n",
       "2021-03-05 12:16:16+01:00           NaN         160.0          17.2  \n",
       "2021-03-05 12:16:36+01:00           NaN          92.0          16.8  "
      ]
     },
     "execution_count": 5,
     "metadata": {},
     "output_type": "execute_result"
    }
   ],
   "source": [
    "print(pd.Index(base).is_all_dates)\n",
    "base.head()\n",
    "base.tail()"
   ]
  },
  {
   "cell_type": "code",
   "execution_count": 6,
   "id": "backed-christian",
   "metadata": {},
   "outputs": [],
   "source": [
    "def PlotIndexSet(x_axis, y_axis, df ):\n",
    "    \"\"\"\n",
    "    Plot a column of a dataframe. x_axis is the index.\n",
    "    x_axis (str)\n",
    "    y_axis (str)\n",
    "    \"\"\"\n",
    "    plt.figure(figsize=(15, 7))\n",
    "    plt.plot(df[y_axis])\n",
    "    title = 'Variable '+ y_axis + ' watched over ' + x_axis +'.'\n",
    "    plt.title(title)\n",
    "    plt.grid(True)\n",
    "    plt.show()\n",
    "    print(df.head())\n",
    "    \n"
   ]
  },
  {
   "cell_type": "code",
   "execution_count": 7,
   "id": "acceptable-support",
   "metadata": {},
   "outputs": [
    {
     "data": {
      "image/png": "[encoded data removed]",
      "text/plain": [
       "<Figure size 1080x504 with 1 Axes>"
      ]
     },
     "metadata": {
      "needs_background": "light"
     },
     "output_type": "display_data"
    },
    {
     "name": "stdout",
     "output_type": "stream",
     "text": [
      "                          payload_DID  payload_hum1         payload_TMS  \\\n",
      "payload_TMS_index                                                         \n",
      "2000-01-01 00:00:02+01:00       5_157           NaN 2000-01-01 00:00:02   \n",
      "2000-01-01 00:00:02+01:00       5_156           NaN 2000-01-01 00:00:02   \n",
      "2000-01-01 00:00:02+01:00       5_156           NaN 2000-01-01 00:00:02   \n",
      "2000-01-01 00:00:02+01:00       5_157           NaN 2000-01-01 00:00:02   \n",
      "2000-01-01 00:00:02+01:00       5_150           NaN 2000-01-01 00:00:02   \n",
      "\n",
      "                           payload_prec  payload_solr  payload_tem1  \n",
      "payload_TMS_index                                                    \n",
      "2000-01-01 00:00:02+01:00           NaN           NaN           NaN  \n",
      "2000-01-01 00:00:02+01:00           NaN           NaN           NaN  \n",
      "2000-01-01 00:00:02+01:00           NaN           NaN           NaN  \n",
      "2000-01-01 00:00:02+01:00           NaN           NaN           NaN  \n",
      "2000-01-01 00:00:02+01:00           NaN           NaN           NaN  \n"
     ]
    }
   ],
   "source": [
    "PlotIndexSet(df=base, x_axis='payload_TMS', y_axis='payload_tem1')"
   ]
  },
  {
   "cell_type": "code",
   "execution_count": 8,
   "id": "daily-focus",
   "metadata": {},
   "outputs": [
    {
     "data": {
      "image/png": "[encoded data removed]",
      "text/plain": [
       "<Figure size 1080x504 with 1 Axes>"
      ]
     },
     "metadata": {
      "needs_background": "light"
     },
     "output_type": "display_data"
    },
    {
     "name": "stdout",
     "output_type": "stream",
     "text": [
      "                          payload_DID  payload_hum1         payload_TMS  \\\n",
      "payload_TMS_index                                                         \n",
      "2000-01-01 00:00:02+01:00       5_157           NaN 2000-01-01 00:00:02   \n",
      "2000-01-01 00:00:02+01:00       5_156           NaN 2000-01-01 00:00:02   \n",
      "2000-01-01 00:00:02+01:00       5_156           NaN 2000-01-01 00:00:02   \n",
      "2000-01-01 00:00:02+01:00       5_157           NaN 2000-01-01 00:00:02   \n",
      "2000-01-01 00:00:02+01:00       5_150           NaN 2000-01-01 00:00:02   \n",
      "\n",
      "                           payload_prec  payload_solr  payload_tem1  \n",
      "payload_TMS_index                                                    \n",
      "2000-01-01 00:00:02+01:00           NaN           NaN           NaN  \n",
      "2000-01-01 00:00:02+01:00           NaN           NaN           NaN  \n",
      "2000-01-01 00:00:02+01:00           NaN           NaN           NaN  \n",
      "2000-01-01 00:00:02+01:00           NaN           NaN           NaN  \n",
      "2000-01-01 00:00:02+01:00           NaN           NaN           NaN  \n"
     ]
    }
   ],
   "source": [
    "PlotIndexSet(df=base, x_axis='payload_TMS', y_axis='payload_hum1')"
   ]
  },
  {
   "cell_type": "code",
   "execution_count": 9,
   "id": "professional-stress",
   "metadata": {},
   "outputs": [
    {
     "data": {
      "image/png": "[encoded data removed]",
      "text/plain": [
       "<Figure size 1080x504 with 1 Axes>"
      ]
     },
     "metadata": {
      "needs_background": "light"
     },
     "output_type": "display_data"
    },
    {
     "name": "stdout",
     "output_type": "stream",
     "text": [
      "                          payload_DID  payload_hum1         payload_TMS  \\\n",
      "payload_TMS_index                                                         \n",
      "2000-01-01 00:00:02+01:00       5_157           NaN 2000-01-01 00:00:02   \n",
      "2000-01-01 00:00:02+01:00       5_156           NaN 2000-01-01 00:00:02   \n",
      "2000-01-01 00:00:02+01:00       5_156           NaN 2000-01-01 00:00:02   \n",
      "2000-01-01 00:00:02+01:00       5_157           NaN 2000-01-01 00:00:02   \n",
      "2000-01-01 00:00:02+01:00       5_150           NaN 2000-01-01 00:00:02   \n",
      "\n",
      "                           payload_prec  payload_solr  payload_tem1  \n",
      "payload_TMS_index                                                    \n",
      "2000-01-01 00:00:02+01:00           NaN           NaN           NaN  \n",
      "2000-01-01 00:00:02+01:00           NaN           NaN           NaN  \n",
      "2000-01-01 00:00:02+01:00           NaN           NaN           NaN  \n",
      "2000-01-01 00:00:02+01:00           NaN           NaN           NaN  \n",
      "2000-01-01 00:00:02+01:00           NaN           NaN           NaN  \n"
     ]
    }
   ],
   "source": [
    "PlotIndexSet(df=base, x_axis='payload_TMS', y_axis='payload_solr')"
   ]
  },
  {
   "cell_type": "markdown",
   "id": "coordinate-titanium",
   "metadata": {},
   "source": [
    "The ploting show that we have to drop all years before 2019"
   ]
  },
  {
   "cell_type": "code",
   "execution_count": 15,
   "id": "quiet-religion",
   "metadata": {},
   "outputs": [
    {
     "name": "stdout",
     "output_type": "stream",
     "text": [
      "<class 'pandas.core.frame.DataFrame'>\n",
      "DatetimeIndex: 452372 entries, 2000-01-01 00:00:02+01:00 to 2021-03-05 12:16:36+01:00\n",
      "Data columns (total 6 columns):\n",
      " #   Column        Non-Null Count   Dtype         \n",
      "---  ------        --------------   -----         \n",
      " 0   payload_DID   452372 non-null  object        \n",
      " 1   payload_hum1  123892 non-null  float64       \n",
      " 2   payload_TMS   452372 non-null  datetime64[ns]\n",
      " 3   payload_prec  8311 non-null    float64       \n",
      " 4   payload_solr  123892 non-null  float64       \n",
      " 5   payload_tem1  123892 non-null  float64       \n",
      "dtypes: datetime64[ns](1), float64(4), object(1)\n",
      "memory usage: 24.2+ MB\n",
      "                          payload_DID  payload_hum1         payload_TMS  \\\n",
      "payload_TMS_index                                                         \n",
      "2020-10-07 16:54:06+02:00        1_34          68.1 2020-10-07 16:54:06   \n",
      "2020-10-07 17:14:05+02:00        1_34          69.5 2020-10-07 17:14:05   \n",
      "2020-10-07 17:34:06+02:00        1_34          57.6 2020-10-07 17:34:06   \n",
      "2020-10-07 17:54:05+02:00        1_34          50.0 2020-10-07 17:54:05   \n",
      "2020-10-07 18:14:06+02:00        1_34          47.1 2020-10-07 18:14:06   \n",
      "...                               ...           ...                 ...   \n",
      "2021-03-05 12:15:06+01:00        5_49           NaN 2021-03-05 12:15:06   \n",
      "2021-03-05 12:15:51+01:00       1_125          59.8 2021-03-05 12:15:51   \n",
      "2021-03-05 12:15:51+01:00        1_63          82.2 2021-03-05 12:15:51   \n",
      "2021-03-05 12:16:16+01:00       1_101          77.6 2021-03-05 12:16:16   \n",
      "2021-03-05 12:16:36+01:00        1_51          95.0 2021-03-05 12:16:36   \n",
      "\n",
      "                           payload_prec  payload_solr  payload_tem1  \n",
      "payload_TMS_index                                                    \n",
      "2020-10-07 16:54:06+02:00           NaN          31.0          14.2  \n",
      "2020-10-07 17:14:05+02:00           NaN          31.0          13.4  \n",
      "2020-10-07 17:34:06+02:00           NaN          31.0          16.8  \n",
      "2020-10-07 17:54:05+02:00           NaN          31.0          18.6  \n",
      "2020-10-07 18:14:06+02:00           NaN          31.0          18.6  \n",
      "...                                 ...           ...           ...  \n",
      "2021-03-05 12:15:06+01:00           NaN           NaN           NaN  \n",
      "2021-03-05 12:15:51+01:00           NaN         331.0           6.9  \n",
      "2021-03-05 12:15:51+01:00           NaN         185.0          17.7  \n",
      "2021-03-05 12:16:16+01:00           NaN         160.0          17.2  \n",
      "2021-03-05 12:16:36+01:00           NaN          92.0          16.8  \n",
      "\n",
      "[447199 rows x 6 columns]\n"
     ]
    }
   ],
   "source": [
    "aux = base.reset_index() #Reset the index TMS back to column\n",
    "aux=base\n",
    "start_date = '2019-01-01 00:00:02'\n",
    "end_date = '2042-01-01 00:00:02'\n",
    "aux.info()\n",
    "print(aux.loc[start_date:end_date])\n",
    "base = base.loc[start_date:end_date]"
   ]
  },
  {
   "cell_type": "code",
   "execution_count": 11,
   "id": "proof-policy",
   "metadata": {},
   "outputs": [
    {
     "data": {
      "image/png": "[encoded data removed]",
      "text/plain": [
       "<Figure size 1080x504 with 1 Axes>"
      ]
     },
     "metadata": {
      "needs_background": "light"
     },
     "output_type": "display_data"
    },
    {
     "name": "stdout",
     "output_type": "stream",
     "text": [
      "                          payload_DID  payload_hum1         payload_TMS  \\\n",
      "payload_TMS_index                                                         \n",
      "2000-01-01 00:00:02+01:00       5_157           NaN 2000-01-01 00:00:02   \n",
      "2000-01-01 00:00:02+01:00       5_156           NaN 2000-01-01 00:00:02   \n",
      "2000-01-01 00:00:02+01:00       5_156           NaN 2000-01-01 00:00:02   \n",
      "2000-01-01 00:00:02+01:00       5_157           NaN 2000-01-01 00:00:02   \n",
      "2000-01-01 00:00:02+01:00       5_150           NaN 2000-01-01 00:00:02   \n",
      "\n",
      "                           payload_prec  payload_solr  payload_tem1  \n",
      "payload_TMS_index                                                    \n",
      "2000-01-01 00:00:02+01:00           NaN           NaN           NaN  \n",
      "2000-01-01 00:00:02+01:00           NaN           NaN           NaN  \n",
      "2000-01-01 00:00:02+01:00           NaN           NaN           NaN  \n",
      "2000-01-01 00:00:02+01:00           NaN           NaN           NaN  \n",
      "2000-01-01 00:00:02+01:00           NaN           NaN           NaN  \n"
     ]
    }
   ],
   "source": [
    "PlotIndexSet(df=base, x_axis='payload_TMS', y_axis='payload_tem1')"
   ]
  },
  {
   "cell_type": "code",
   "execution_count": 12,
   "id": "solved-delta",
   "metadata": {},
   "outputs": [
    {
     "data": {
      "image/png": "[encoded data removed]",
      "text/plain": [
       "<Figure size 1080x504 with 1 Axes>"
      ]
     },
     "metadata": {
      "needs_background": "light"
     },
     "output_type": "display_data"
    },
    {
     "name": "stdout",
     "output_type": "stream",
     "text": [
      "                          payload_DID  payload_hum1         payload_TMS  \\\n",
      "payload_TMS_index                                                         \n",
      "2000-01-01 00:00:02+01:00       5_157           NaN 2000-01-01 00:00:02   \n",
      "2000-01-01 00:00:02+01:00       5_156           NaN 2000-01-01 00:00:02   \n",
      "2000-01-01 00:00:02+01:00       5_156           NaN 2000-01-01 00:00:02   \n",
      "2000-01-01 00:00:02+01:00       5_157           NaN 2000-01-01 00:00:02   \n",
      "2000-01-01 00:00:02+01:00       5_150           NaN 2000-01-01 00:00:02   \n",
      "\n",
      "                           payload_prec  payload_solr  payload_tem1  \n",
      "payload_TMS_index                                                    \n",
      "2000-01-01 00:00:02+01:00           NaN           NaN           NaN  \n",
      "2000-01-01 00:00:02+01:00           NaN           NaN           NaN  \n",
      "2000-01-01 00:00:02+01:00           NaN           NaN           NaN  \n",
      "2000-01-01 00:00:02+01:00           NaN           NaN           NaN  \n",
      "2000-01-01 00:00:02+01:00           NaN           NaN           NaN  \n"
     ]
    }
   ],
   "source": [
    "PlotIndexSet(df=base, x_axis='payload_TMS', y_axis='payload_hum1')"
   ]
  },
  {
   "cell_type": "code",
   "execution_count": null,
   "id": "recent-april",
   "metadata": {},
   "outputs": [],
   "source": [
    "PlotIndexSet(df=base, x_axis='payload_TMS', y_axis='payload_solr')"
   ]
  },
  {
   "cell_type": "markdown",
   "id": "forbidden-participant",
   "metadata": {},
   "source": [
    "Next step is to set the frequency for one hour. We want to see what to do with the data there. "
   ]
  },
  {
   "cell_type": "code",
   "execution_count": 16,
   "id": "developed-input",
   "metadata": {},
   "outputs": [
    {
     "data": {
      "text/plain": [
       "payload_TMS_index\n",
       "2000-01-01 00:00:02+01:00    0\n",
       "2000-01-01 00:00:02+01:00    0\n",
       "2000-01-01 00:00:02+01:00    0\n",
       "2000-01-01 00:00:02+01:00    0\n",
       "2000-01-01 00:00:02+01:00    0\n",
       "Name: payload_TMS_hour, dtype: int64"
      ]
     },
     "execution_count": 16,
     "metadata": {},
     "output_type": "execute_result"
    }
   ],
   "source": [
    "aux['payload_TMS_date'] = aux['payload_TMS'].apply(lambda row: row.date())\n",
    "#aux['TMS_date'].head()\n",
    "aux['payload_TMS_hour'] = aux['payload_TMS'].apply(lambda row: row.time().hour)\n",
    "aux['payload_TMS_hour'].head()"
   ]
  },
  {
   "cell_type": "code",
   "execution_count": 17,
   "id": "colored-sphere",
   "metadata": {},
   "outputs": [
    {
     "data": {
      "text/html": [
       "<div>\n",
       "<style scoped>\n",
       "    .dataframe tbody tr th:only-of-type {\n",
       "        vertical-align: middle;\n",
       "    }\n",
       "\n",
       "    .dataframe tbody tr th {\n",
       "        vertical-align: top;\n",
       "    }\n",
       "\n",
       "    .dataframe thead th {\n",
       "        text-align: right;\n",
       "    }\n",
       "</style>\n",
       "<table border=\"1\" class=\"dataframe\">\n",
       "  <thead>\n",
       "    <tr style=\"text-align: right;\">\n",
       "      <th></th>\n",
       "      <th>payload_DID</th>\n",
       "      <th>payload_hum1</th>\n",
       "      <th>payload_TMS</th>\n",
       "      <th>payload_prec</th>\n",
       "      <th>payload_solr</th>\n",
       "      <th>payload_tem1</th>\n",
       "      <th>payload_TMS_date</th>\n",
       "      <th>payload_TMS_hour</th>\n",
       "    </tr>\n",
       "    <tr>\n",
       "      <th>payload_TMS_index</th>\n",
       "      <th></th>\n",
       "      <th></th>\n",
       "      <th></th>\n",
       "      <th></th>\n",
       "      <th></th>\n",
       "      <th></th>\n",
       "      <th></th>\n",
       "      <th></th>\n",
       "    </tr>\n",
       "  </thead>\n",
       "  <tbody>\n",
       "    <tr>\n",
       "      <th>2000-01-01 00:00:02+01:00</th>\n",
       "      <td>5_157</td>\n",
       "      <td>NaN</td>\n",
       "      <td>2000-01-01 00:00:02</td>\n",
       "      <td>NaN</td>\n",
       "      <td>NaN</td>\n",
       "      <td>NaN</td>\n",
       "      <td>2000-01-01</td>\n",
       "      <td>0</td>\n",
       "    </tr>\n",
       "    <tr>\n",
       "      <th>2000-01-01 00:00:02+01:00</th>\n",
       "      <td>5_156</td>\n",
       "      <td>NaN</td>\n",
       "      <td>2000-01-01 00:00:02</td>\n",
       "      <td>NaN</td>\n",
       "      <td>NaN</td>\n",
       "      <td>NaN</td>\n",
       "      <td>2000-01-01</td>\n",
       "      <td>0</td>\n",
       "    </tr>\n",
       "    <tr>\n",
       "      <th>2000-01-01 00:00:02+01:00</th>\n",
       "      <td>5_156</td>\n",
       "      <td>NaN</td>\n",
       "      <td>2000-01-01 00:00:02</td>\n",
       "      <td>NaN</td>\n",
       "      <td>NaN</td>\n",
       "      <td>NaN</td>\n",
       "      <td>2000-01-01</td>\n",
       "      <td>0</td>\n",
       "    </tr>\n",
       "    <tr>\n",
       "      <th>2000-01-01 00:00:02+01:00</th>\n",
       "      <td>5_157</td>\n",
       "      <td>NaN</td>\n",
       "      <td>2000-01-01 00:00:02</td>\n",
       "      <td>NaN</td>\n",
       "      <td>NaN</td>\n",
       "      <td>NaN</td>\n",
       "      <td>2000-01-01</td>\n",
       "      <td>0</td>\n",
       "    </tr>\n",
       "    <tr>\n",
       "      <th>2000-01-01 00:00:02+01:00</th>\n",
       "      <td>5_150</td>\n",
       "      <td>NaN</td>\n",
       "      <td>2000-01-01 00:00:02</td>\n",
       "      <td>NaN</td>\n",
       "      <td>NaN</td>\n",
       "      <td>NaN</td>\n",
       "      <td>2000-01-01</td>\n",
       "      <td>0</td>\n",
       "    </tr>\n",
       "  </tbody>\n",
       "</table>\n",
       "</div>"
      ],
      "text/plain": [
       "                          payload_DID  payload_hum1         payload_TMS  \\\n",
       "payload_TMS_index                                                         \n",
       "2000-01-01 00:00:02+01:00       5_157           NaN 2000-01-01 00:00:02   \n",
       "2000-01-01 00:00:02+01:00       5_156           NaN 2000-01-01 00:00:02   \n",
       "2000-01-01 00:00:02+01:00       5_156           NaN 2000-01-01 00:00:02   \n",
       "2000-01-01 00:00:02+01:00       5_157           NaN 2000-01-01 00:00:02   \n",
       "2000-01-01 00:00:02+01:00       5_150           NaN 2000-01-01 00:00:02   \n",
       "\n",
       "                           payload_prec  payload_solr  payload_tem1  \\\n",
       "payload_TMS_index                                                     \n",
       "2000-01-01 00:00:02+01:00           NaN           NaN           NaN   \n",
       "2000-01-01 00:00:02+01:00           NaN           NaN           NaN   \n",
       "2000-01-01 00:00:02+01:00           NaN           NaN           NaN   \n",
       "2000-01-01 00:00:02+01:00           NaN           NaN           NaN   \n",
       "2000-01-01 00:00:02+01:00           NaN           NaN           NaN   \n",
       "\n",
       "                          payload_TMS_date  payload_TMS_hour  \n",
       "payload_TMS_index                                             \n",
       "2000-01-01 00:00:02+01:00       2000-01-01                 0  \n",
       "2000-01-01 00:00:02+01:00       2000-01-01                 0  \n",
       "2000-01-01 00:00:02+01:00       2000-01-01                 0  \n",
       "2000-01-01 00:00:02+01:00       2000-01-01                 0  \n",
       "2000-01-01 00:00:02+01:00       2000-01-01                 0  "
      ]
     },
     "execution_count": 17,
     "metadata": {},
     "output_type": "execute_result"
    }
   ],
   "source": [
    "aux.head()\n",
    "#Agruparemos por DID -> Date -> hour\n"
   ]
  },
  {
   "cell_type": "code",
   "execution_count": 31,
   "id": "dietary-credit",
   "metadata": {
    "scrolled": true
   },
   "outputs": [
    {
     "name": "stdout",
     "output_type": "stream",
     "text": [
      "<class 'pandas.core.frame.DataFrame'>\n",
      "DatetimeIndex: 123892 entries, 2000-01-01 00:00:53+01:00 to 2021-03-05 12:16:36+01:00\n",
      "Data columns (total 8 columns):\n",
      " #   Column            Non-Null Count   Dtype         \n",
      "---  ------            --------------   -----         \n",
      " 0   payload_DID       123892 non-null  object        \n",
      " 1   payload_hum1      123892 non-null  float64       \n",
      " 2   payload_TMS       123892 non-null  datetime64[ns]\n",
      " 3   payload_prec      8311 non-null    float64       \n",
      " 4   payload_solr      123892 non-null  float64       \n",
      " 5   payload_tem1      123892 non-null  float64       \n",
      " 6   payload_TMS_date  123892 non-null  object        \n",
      " 7   payload_TMS_hour  123892 non-null  int64         \n",
      "dtypes: datetime64[ns](1), float64(4), int64(1), object(2)\n",
      "memory usage: 8.5+ MB\n"
     ]
    },
    {
     "data": {
      "text/html": [
       "<div>\n",
       "<style scoped>\n",
       "    .dataframe tbody tr th:only-of-type {\n",
       "        vertical-align: middle;\n",
       "    }\n",
       "\n",
       "    .dataframe tbody tr th {\n",
       "        vertical-align: top;\n",
       "    }\n",
       "\n",
       "    .dataframe thead th {\n",
       "        text-align: right;\n",
       "    }\n",
       "</style>\n",
       "<table border=\"1\" class=\"dataframe\">\n",
       "  <thead>\n",
       "    <tr style=\"text-align: right;\">\n",
       "      <th></th>\n",
       "      <th>payload_DID</th>\n",
       "      <th>payload_hum1</th>\n",
       "      <th>payload_TMS</th>\n",
       "      <th>payload_prec</th>\n",
       "      <th>payload_solr</th>\n",
       "      <th>payload_tem1</th>\n",
       "      <th>payload_TMS_date</th>\n",
       "      <th>payload_TMS_hour</th>\n",
       "    </tr>\n",
       "    <tr>\n",
       "      <th>payload_TMS_index</th>\n",
       "      <th></th>\n",
       "      <th></th>\n",
       "      <th></th>\n",
       "      <th></th>\n",
       "      <th></th>\n",
       "      <th></th>\n",
       "      <th></th>\n",
       "      <th></th>\n",
       "    </tr>\n",
       "  </thead>\n",
       "  <tbody>\n",
       "    <tr>\n",
       "      <th>2021-03-05 12:14:39+01:00</th>\n",
       "      <td>18_76</td>\n",
       "      <td>76.5</td>\n",
       "      <td>2021-03-05 12:14:39</td>\n",
       "      <td>NaN</td>\n",
       "      <td>223.0</td>\n",
       "      <td>18.3</td>\n",
       "      <td>2021-03-05</td>\n",
       "      <td>12</td>\n",
       "    </tr>\n",
       "    <tr>\n",
       "      <th>2021-03-05 12:15:51+01:00</th>\n",
       "      <td>1_125</td>\n",
       "      <td>59.8</td>\n",
       "      <td>2021-03-05 12:15:51</td>\n",
       "      <td>NaN</td>\n",
       "      <td>331.0</td>\n",
       "      <td>6.9</td>\n",
       "      <td>2021-03-05</td>\n",
       "      <td>12</td>\n",
       "    </tr>\n",
       "    <tr>\n",
       "      <th>2021-03-05 12:15:51+01:00</th>\n",
       "      <td>1_63</td>\n",
       "      <td>82.2</td>\n",
       "      <td>2021-03-05 12:15:51</td>\n",
       "      <td>NaN</td>\n",
       "      <td>185.0</td>\n",
       "      <td>17.7</td>\n",
       "      <td>2021-03-05</td>\n",
       "      <td>12</td>\n",
       "    </tr>\n",
       "    <tr>\n",
       "      <th>2021-03-05 12:16:16+01:00</th>\n",
       "      <td>1_101</td>\n",
       "      <td>77.6</td>\n",
       "      <td>2021-03-05 12:16:16</td>\n",
       "      <td>NaN</td>\n",
       "      <td>160.0</td>\n",
       "      <td>17.2</td>\n",
       "      <td>2021-03-05</td>\n",
       "      <td>12</td>\n",
       "    </tr>\n",
       "    <tr>\n",
       "      <th>2021-03-05 12:16:36+01:00</th>\n",
       "      <td>1_51</td>\n",
       "      <td>95.0</td>\n",
       "      <td>2021-03-05 12:16:36</td>\n",
       "      <td>NaN</td>\n",
       "      <td>92.0</td>\n",
       "      <td>16.8</td>\n",
       "      <td>2021-03-05</td>\n",
       "      <td>12</td>\n",
       "    </tr>\n",
       "  </tbody>\n",
       "</table>\n",
       "</div>"
      ],
      "text/plain": [
       "                          payload_DID  payload_hum1         payload_TMS  \\\n",
       "payload_TMS_index                                                         \n",
       "2021-03-05 12:14:39+01:00       18_76          76.5 2021-03-05 12:14:39   \n",
       "2021-03-05 12:15:51+01:00       1_125          59.8 2021-03-05 12:15:51   \n",
       "2021-03-05 12:15:51+01:00        1_63          82.2 2021-03-05 12:15:51   \n",
       "2021-03-05 12:16:16+01:00       1_101          77.6 2021-03-05 12:16:16   \n",
       "2021-03-05 12:16:36+01:00        1_51          95.0 2021-03-05 12:16:36   \n",
       "\n",
       "                           payload_prec  payload_solr  payload_tem1  \\\n",
       "payload_TMS_index                                                     \n",
       "2021-03-05 12:14:39+01:00           NaN         223.0          18.3   \n",
       "2021-03-05 12:15:51+01:00           NaN         331.0           6.9   \n",
       "2021-03-05 12:15:51+01:00           NaN         185.0          17.7   \n",
       "2021-03-05 12:16:16+01:00           NaN         160.0          17.2   \n",
       "2021-03-05 12:16:36+01:00           NaN          92.0          16.8   \n",
       "\n",
       "                          payload_TMS_date  payload_TMS_hour  \n",
       "payload_TMS_index                                             \n",
       "2021-03-05 12:14:39+01:00       2021-03-05                12  \n",
       "2021-03-05 12:15:51+01:00       2021-03-05                12  \n",
       "2021-03-05 12:15:51+01:00       2021-03-05                12  \n",
       "2021-03-05 12:16:16+01:00       2021-03-05                12  \n",
       "2021-03-05 12:16:36+01:00       2021-03-05                12  "
      ]
     },
     "execution_count": 31,
     "metadata": {},
     "output_type": "execute_result"
    }
   ],
   "source": [
    "aux.info()\n",
    "aux = aux.dropna(subset=['payload_hum1', 'payload_solr', 'payload_tem1'])\n",
    "aux.tail()"
   ]
  },
  {
   "cell_type": "code",
   "execution_count": 32,
   "id": "offensive-poland",
   "metadata": {},
   "outputs": [
    {
     "name": "stdout",
     "output_type": "stream",
     "text": [
      "<class 'pandas.core.frame.DataFrame'>\n",
      "RangeIndex: 90406 entries, 0 to 90405\n",
      "Data columns (total 7 columns):\n",
      " #   Column            Non-Null Count  Dtype  \n",
      "---  ------            --------------  -----  \n",
      " 0   payload_DID       90406 non-null  object \n",
      " 1   payload_TMS_date  90406 non-null  object \n",
      " 2   payload_TMS_hour  90406 non-null  int64  \n",
      " 3   payload_hum1      40092 non-null  float64\n",
      " 4   payload_prec      2739 non-null   float64\n",
      " 5   payload_solr      40092 non-null  float64\n",
      " 6   payload_tem1      40092 non-null  float64\n",
      "dtypes: float64(4), int64(1), object(2)\n",
      "memory usage: 4.8+ MB\n",
      "None\n"
     ]
    },
    {
     "data": {
      "text/html": [
       "<div>\n",
       "<style scoped>\n",
       "    .dataframe tbody tr th:only-of-type {\n",
       "        vertical-align: middle;\n",
       "    }\n",
       "\n",
       "    .dataframe tbody tr th {\n",
       "        vertical-align: top;\n",
       "    }\n",
       "\n",
       "    .dataframe thead th {\n",
       "        text-align: right;\n",
       "    }\n",
       "</style>\n",
       "<table border=\"1\" class=\"dataframe\">\n",
       "  <thead>\n",
       "    <tr style=\"text-align: right;\">\n",
       "      <th></th>\n",
       "      <th>payload_DID</th>\n",
       "      <th>payload_TMS_date</th>\n",
       "      <th>payload_TMS_hour</th>\n",
       "      <th>payload_hum1</th>\n",
       "      <th>payload_prec</th>\n",
       "      <th>payload_solr</th>\n",
       "      <th>payload_tem1</th>\n",
       "    </tr>\n",
       "  </thead>\n",
       "  <tbody>\n",
       "    <tr>\n",
       "      <th>0</th>\n",
       "      <td>14_3</td>\n",
       "      <td>2021-02-16</td>\n",
       "      <td>18</td>\n",
       "      <td>46.700000</td>\n",
       "      <td>NaN</td>\n",
       "      <td>508.000000</td>\n",
       "      <td>26.6000</td>\n",
       "    </tr>\n",
       "    <tr>\n",
       "      <th>1</th>\n",
       "      <td>14_3</td>\n",
       "      <td>2021-02-17</td>\n",
       "      <td>13</td>\n",
       "      <td>57.025000</td>\n",
       "      <td>NaN</td>\n",
       "      <td>293.250000</td>\n",
       "      <td>21.6000</td>\n",
       "    </tr>\n",
       "    <tr>\n",
       "      <th>2</th>\n",
       "      <td>14_3</td>\n",
       "      <td>2021-02-17</td>\n",
       "      <td>14</td>\n",
       "      <td>50.975000</td>\n",
       "      <td>NaN</td>\n",
       "      <td>370.250000</td>\n",
       "      <td>24.2250</td>\n",
       "    </tr>\n",
       "    <tr>\n",
       "      <th>3</th>\n",
       "      <td>14_3</td>\n",
       "      <td>2021-02-17</td>\n",
       "      <td>15</td>\n",
       "      <td>48.083333</td>\n",
       "      <td>NaN</td>\n",
       "      <td>459.833333</td>\n",
       "      <td>25.2000</td>\n",
       "    </tr>\n",
       "    <tr>\n",
       "      <th>4</th>\n",
       "      <td>14_3</td>\n",
       "      <td>2021-02-17</td>\n",
       "      <td>16</td>\n",
       "      <td>43.087500</td>\n",
       "      <td>NaN</td>\n",
       "      <td>510.875000</td>\n",
       "      <td>27.2375</td>\n",
       "    </tr>\n",
       "  </tbody>\n",
       "</table>\n",
       "</div>"
      ],
      "text/plain": [
       "  payload_DID payload_TMS_date  payload_TMS_hour  payload_hum1  payload_prec  \\\n",
       "0        14_3       2021-02-16                18     46.700000           NaN   \n",
       "1        14_3       2021-02-17                13     57.025000           NaN   \n",
       "2        14_3       2021-02-17                14     50.975000           NaN   \n",
       "3        14_3       2021-02-17                15     48.083333           NaN   \n",
       "4        14_3       2021-02-17                16     43.087500           NaN   \n",
       "\n",
       "   payload_solr  payload_tem1  \n",
       "0    508.000000       26.6000  \n",
       "1    293.250000       21.6000  \n",
       "2    370.250000       24.2250  \n",
       "3    459.833333       25.2000  \n",
       "4    510.875000       27.2375  "
      ]
     },
     "execution_count": 32,
     "metadata": {},
     "output_type": "execute_result"
    }
   ],
   "source": [
    "aux = aux.groupby(by = ['payload_DID', 'payload_TMS_date', 'payload_TMS_hour']).mean().reset_index()\n",
    "print(aux1.info())\n",
    "aux.head()"
   ]
  },
  {
   "cell_type": "code",
   "execution_count": 33,
   "id": "dental-psychology",
   "metadata": {},
   "outputs": [
    {
     "data": {
      "text/plain": [
       " 100.000000    714\n",
       "-28.000000     423\n",
       "-30.000000     176\n",
       "-29.000000     173\n",
       " 94.000000      49\n",
       "              ... \n",
       " 94.350000       1\n",
       " 60.450000       1\n",
       " 45.575000       1\n",
       " 22.833333       1\n",
       " 57.560000       1\n",
       "Name: payload_hum1, Length: 5135, dtype: int64"
      ]
     },
     "execution_count": 33,
     "metadata": {},
     "output_type": "execute_result"
    }
   ],
   "source": [
    "aux['payload_hum1'].value_counts()"
   ]
  },
  {
   "cell_type": "markdown",
   "id": "oriented-headline",
   "metadata": {},
   "source": [
    "Identificar el tipo de serie de tiempo que tenemos. Hay que desestacionalizar la serie de tiempo, para poder trabajar. Y a partir de esto generar las predicciones -> como regresiones lineales para predecir el tiempo (estacionalizar las serie, etc) "
   ]
  },
  {
   "cell_type": "code",
   "execution_count": null,
   "id": "rocky-turkish",
   "metadata": {},
   "outputs": [],
   "source": []
  },
  {
   "cell_type": "code",
   "execution_count": null,
   "id": "technical-yesterday",
   "metadata": {},
   "outputs": [],
   "source": []
  },
  {
   "cell_type": "code",
   "execution_count": null,
   "id": "synthetic-niger",
   "metadata": {},
   "outputs": [],
   "source": []
  },
  {
   "cell_type": "code",
   "execution_count": null,
   "id": "composite-enemy",
   "metadata": {},
   "outputs": [],
   "source": []
  },
  {
   "cell_type": "code",
   "execution_count": null,
   "id": "processed-tours",
   "metadata": {},
   "outputs": [],
   "source": []
  },
  {
   "cell_type": "code",
   "execution_count": null,
   "id": "incorrect-method",
   "metadata": {},
   "outputs": [],
   "source": []
  },
  {
   "cell_type": "code",
   "execution_count": 35,
   "id": "latin-purpose",
   "metadata": {},
   "outputs": [
    {
     "data": {
      "image/png": "[encoded data removed]",
      "text/plain": [
       "<Figure size 1080x504 with 1 Axes>"
      ]
     },
     "metadata": {
      "needs_background": "light"
     },
     "output_type": "display_data"
    },
    {
     "name": "stdout",
     "output_type": "stream",
     "text": [
      "  payload_DID payload_TMS_date  payload_TMS_hour  payload_hum1  payload_prec  \\\n",
      "0        14_3       2021-02-16                18     46.700000           NaN   \n",
      "1        14_3       2021-02-17                13     57.025000           NaN   \n",
      "2        14_3       2021-02-17                14     50.975000           NaN   \n",
      "3        14_3       2021-02-17                15     48.083333           NaN   \n",
      "4        14_3       2021-02-17                16     43.087500           NaN   \n",
      "\n",
      "   payload_solr  payload_tem1  \n",
      "0    508.000000       26.6000  \n",
      "1    293.250000       21.6000  \n",
      "2    370.250000       24.2250  \n",
      "3    459.833333       25.2000  \n",
      "4    510.875000       27.2375  \n"
     ]
    }
   ],
   "source": [
    "PlotIndexSet(df=aux, x_axis='payload_TMS', y_axis='payload_hum1')"
   ]
  },
  {
   "cell_type": "code",
   "execution_count": null,
   "id": "silver-anger",
   "metadata": {},
   "outputs": [],
   "source": []
  },
  {
   "cell_type": "code",
   "execution_count": null,
   "id": "neutral-worth",
   "metadata": {},
   "outputs": [],
   "source": []
  },
  {
   "cell_type": "code",
   "execution_count": null,
   "id": "violent-recipient",
   "metadata": {},
   "outputs": [],
   "source": []
  },
  {
   "cell_type": "code",
   "execution_count": null,
   "id": "intelligent-producer",
   "metadata": {},
   "outputs": [],
   "source": []
  },
  {
   "cell_type": "code",
   "execution_count": 20,
   "id": "rubber-department",
   "metadata": {},
   "outputs": [
    {
     "name": "stdout",
     "output_type": "stream",
     "text": [
      "2000-01-01\n",
      "0\n",
      "<class 'datetime.time'>\n",
      "Espe eres la más bb\n"
     ]
    }
   ],
   "source": [
    "m = aux['payload_TMS'][0]\n",
    "n = aux['payload_TMS'][1]\n",
    "print(m.date())\n",
    "print(m.time().hour)\n",
    "print(type(m.time()))\n",
    "m\n",
    "\n",
    "\n",
    "if m.date() == n.date() and m.time().hour == n.time().hour:\n",
    "    print(\"Espe eres la más bb\")\n",
    "else:\n",
    "    print(\"Lucky-paila-game-over-3-2-1\")\n"
   ]
  },
  {
   "cell_type": "code",
   "execution_count": 21,
   "id": "limited-field",
   "metadata": {},
   "outputs": [],
   "source": [
    "au = aux.loc"
   ]
  },
  {
   "cell_type": "code",
   "execution_count": null,
   "id": "dirty-enlargement",
   "metadata": {},
   "outputs": [],
   "source": [
    "aux.head()"
   ]
  },
  {
   "cell_type": "markdown",
   "id": "compressed-mediterranean",
   "metadata": {},
   "source": [
    "## Variables\n",
    "    (RH)   -    Relative humidity \n",
    "    (T)    -    Temperature\n",
    "    (OT)   -    Optimal temperature"
   ]
  },
  {
   "cell_type": "markdown",
   "id": "located-victim",
   "metadata": {},
   "source": [
    "# Conditions\n",
    "\n",
    "\n",
    "### for germination\n",
    "\n",
    "RH > 60%\n",
    "15.5C < T   < 30C\n",
    "18C   < OT  < 30C\n",
    "RH + OT = high risk when sporulation - thus allows growers to spray fungicide at the optimal time to prevent primary infection. \n",
    "\n"
   ]
  },
  {
   "cell_type": "code",
   "execution_count": null,
   "id": "opposed-reaction",
   "metadata": {},
   "outputs": [],
   "source": [
    "df[\"payload.DID\"].unique()\n",
    "len(df[\"_id\"].unique())"
   ]
  },
  {
   "cell_type": "code",
   "execution_count": null,
   "id": "awful-savage",
   "metadata": {},
   "outputs": [],
   "source": []
  },
  {
   "cell_type": "code",
   "execution_count": null,
   "id": "unexpected-explosion",
   "metadata": {},
   "outputs": [],
   "source": []
  },
  {
   "cell_type": "code",
   "execution_count": null,
   "id": "outdoor-stake",
   "metadata": {},
   "outputs": [],
   "source": []
  },
  {
   "cell_type": "code",
   "execution_count": null,
   "id": "everyday-champion",
   "metadata": {},
   "outputs": [],
   "source": []
  }
 ],
 "metadata": {
  "kernelspec": {
   "display_name": "Python 3",
   "language": "python",
   "name": "python3"
  },
  "language_info": {
   "codemirror_mode": {
    "name": "ipython",
    "version": 3
   },
   "file_extension": ".py",
   "mimetype": "text/x-python",
   "name": "python",
   "nbconvert_exporter": "python",
   "pygments_lexer": "ipython3",
   "version": "3.8.2"
  }
 },
 "nbformat": 4,
 "nbformat_minor": 5
}
