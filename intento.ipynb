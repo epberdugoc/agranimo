{
 "cells": [
  {
   "cell_type": "code",
   "execution_count": 66,
   "id": "cubic-collect",
   "metadata": {},
   "outputs": [
    {
     "name": "stdout",
     "output_type": "stream",
     "text": [
      "2021-03-10 09:16:25.677278\n",
      "/Volumes/GoogleDrive/My Drive/01_Mac2021/05_Work/00_Pruebas técnicas/01_software_engenieer/00_agranimo\n"
     ]
    }
   ],
   "source": [
    "import warnings                                  # `do not disturbe` mode\n",
    "warnings.filterwarnings('ignore')\n",
    "from datetime import datetime\n",
    "print(datetime.now())\n",
    "import os\n",
    "print(os.getcwd())\n",
    "\n",
    "#====\n",
    "import numpy as np\n",
    "import pandas as pd\n",
    "import pandasql\n",
    "#import sqlalchemy\n",
    "import pymongo\n",
    "\n",
    "\n",
    "import matplotlib.pyplot as plt                  # plots\n",
    "import seaborn as sns                            # more plots\n",
    "from dateutil.relativedelta import relativedelta # working with dates with style\n",
    "from scipy.optimize import minimize              # for function minimization\n",
    "\n",
    "import statsmodels.formula.api as smf            # statistics and econometrics\n",
    "import statsmodels.tsa.api as smt\n",
    "import statsmodels.api as sm\n",
    "import scipy.stats as scs\n",
    "\n",
    "from itertools import product                    # some useful functions\n",
    "from tqdm import tqdm_notebook\n",
    "\n",
    "\n",
    "\n",
    "%matplotlib inline\n"
   ]
  },
  {
   "cell_type": "code",
   "execution_count": 158,
   "id": "social-surface",
   "metadata": {},
   "outputs": [
    {
     "name": "stdout",
     "output_type": "stream",
     "text": [
      "<class 'pandas.core.frame.DataFrame'>\n",
      "RangeIndex: 459556 entries, 0 to 459555\n",
      "Data columns (total 34 columns):\n",
      " #   Column          Non-Null Count   Dtype  \n",
      "---  ------          --------------   -----  \n",
      " 0   _id             459556 non-null  object \n",
      " 1   createdAt       459556 non-null  object \n",
      " 2   packet.cmd      459556 non-null  object \n",
      " 3   packet.dup      459556 non-null  bool   \n",
      " 4   packet.length   459556 non-null  int64  \n",
      " 5   packet.payload  459556 non-null  object \n",
      " 6   packet.qos      459556 non-null  int64  \n",
      " 7   packet.retain   459556 non-null  bool   \n",
      " 8   packet.topic    459556 non-null  object \n",
      " 9   payload.BFMW    340043 non-null  float64\n",
      " 10  payload.BSID    340043 non-null  object \n",
      " 11  payload.DID     459556 non-null  object \n",
      " 12  payload.FMW     452372 non-null  float64\n",
      " 13  payload.TMS     452372 non-null  object \n",
      " 14  payload.bvol    452372 non-null  float64\n",
      " 15  payload.hum1    123892 non-null  float64\n",
      " 16  payload.lwet    35617 non-null   float64\n",
      " 17  payload.prec    8311 non-null    float64\n",
      " 18  payload.sea1    12959 non-null   float64\n",
      " 19  payload.sec1    12959 non-null   float64\n",
      " 20  payload.smo1    315521 non-null  float64\n",
      " 21  payload.smo2    306245 non-null  float64\n",
      " 22  payload.smo3    295858 non-null  float64\n",
      " 23  payload.smo4    295858 non-null  float64\n",
      " 24  payload.solr    123892 non-null  float64\n",
      " 25  payload.stm1    328480 non-null  float64\n",
      " 26  payload.stm2    306245 non-null  float64\n",
      " 27  payload.stm3    295858 non-null  float64\n",
      " 28  payload.stm4    295858 non-null  float64\n",
      " 29  payload.tem1    123892 non-null  float64\n",
      " 30  payload.wind    4807 non-null    float64\n",
      " 31  payload.wins    4807 non-null    float64\n",
      " 32  processed       459556 non-null  bool   \n",
      " 33  topic           459556 non-null  object \n",
      "dtypes: bool(3), float64(20), int64(2), object(9)\n",
      "memory usage: 110.0+ MB\n",
      "2021-03-10 09:58:33.216356\n"
     ]
    }
   ],
   "source": [
    "\n",
    "df = pd.read_csv(\"docs/Event.csv\", \n",
    "                 #index_col= [\"payload.TMS\"],\n",
    "                 parse_dates = [\"payload.TMS\"], \n",
    "                 dtype = {\n",
    "                         #\"payload.TMS\": 'datetime64[ns]'\n",
    "                         }\n",
    "                )\n",
    "\n",
    "df.info()\n",
    "df = df.sort_values(by=\"payload.TMS\")\n",
    "print(datetime.now())"
   ]
  },
  {
   "cell_type": "markdown",
   "id": "polish-semiconductor",
   "metadata": {},
   "source": [
    "##### Let's check the columns in our database"
   ]
  },
  {
   "cell_type": "code",
   "execution_count": 163,
   "id": "false-heavy",
   "metadata": {},
   "outputs": [
    {
     "name": "stdout",
     "output_type": "stream",
     "text": [
      "2021-03-10 09:59:41.246573\n",
      "<class 'pandas.core.frame.DataFrame'>\n",
      "Int64Index: 452372 entries, 351921 to 459553\n",
      "Data columns (total 8 columns):\n",
      " #   Column        Non-Null Count   Dtype         \n",
      "---  ------        --------------   -----         \n",
      " 0   id            452372 non-null  object        \n",
      " 1   processed     452372 non-null  bool          \n",
      " 2   payload_DID   452372 non-null  object        \n",
      " 3   payload_hum1  123892 non-null  float64       \n",
      " 4   payload_TMS   452372 non-null  datetime64[ns]\n",
      " 5   payload_prec  8311 non-null    float64       \n",
      " 6   payload_solr  123892 non-null  float64       \n",
      " 7   payload_tem1  123892 non-null  float64       \n",
      "dtypes: bool(1), datetime64[ns](1), float64(4), object(2)\n",
      "memory usage: 28.0+ MB\n"
     ]
    }
   ],
   "source": [
    "print(datetime.now())\n",
    "\n",
    "#Columns refered to payload\n",
    "columns_payload = [col for col in df.columns if col.startswith(\"payload\")]\n",
    "\n",
    "#Columns refered to packet \n",
    "columns_packet = [col for col in df.columns if col.startswith(\"packet\")]\n",
    "\n",
    "columns = [\"_id\",\n",
    "           \"processed\",\n",
    "           \"payload.DID\",\n",
    "           \"payload.hum1\",\n",
    "           \"payload.TMS\",\n",
    "           \"payload.prec\",\n",
    "           \"payload.solr\",\n",
    "           \"payload.tem1\",\n",
    "          ]\n",
    "base = df[columns]\n",
    "\n",
    "rename_columns = { \n",
    "                   \"_id\":\"id\",\n",
    "                   \"processed\":\"processed\",\n",
    "                   \"payload.DID\":\"payload_DID\",\n",
    "                   \"payload.hum1\":\"payload_hum1\",\n",
    "                   \"payload.TMS\":\"payload_TMS\",\n",
    "                   \"payload.prec\":\"payload_prec\",\n",
    "                   \"payload.solr\":\"payload_solr\",\n",
    "                   \"payload.tem1\":\"payload_tem1\",\n",
    "                    }\n",
    "base = base.rename(columns = rename_columns)\n",
    "\n",
    "base = base.dropna(subset = [\"payload_TMS\"])\n",
    "base[\"payload_TMS\"] = pd.to_datetime(base.payload_TMS, unit='s')\n",
    "base = base.sort_values(by=\"payload_TMS\")\n",
    "\n",
    "base.info()\n"
   ]
  },
  {
   "cell_type": "code",
   "execution_count": 164,
   "id": "weird-hearing",
   "metadata": {},
   "outputs": [
    {
     "name": "stdout",
     "output_type": "stream",
     "text": [
      "2021-03-10 09:59:45.159098\n",
      "351921   2000-01-01 00:00:02\n",
      "402964   2000-01-01 00:00:02\n",
      "247571   2000-01-01 00:00:02\n",
      "274498   2000-01-01 00:00:02\n",
      "274730   2000-01-01 00:00:02\n",
      "Name: payload_TMS, dtype: datetime64[ns]\n",
      "<class 'pandas.core.frame.DataFrame'>\n",
      "DatetimeIndex: 452372 entries, 2000-01-01 00:00:02 to 2021-03-05 12:16:36\n",
      "Data columns (total 7 columns):\n",
      " #   Column        Non-Null Count   Dtype  \n",
      "---  ------        --------------   -----  \n",
      " 0   id            452372 non-null  object \n",
      " 1   processed     452372 non-null  bool   \n",
      " 2   payload_DID   452372 non-null  object \n",
      " 3   payload_hum1  123892 non-null  float64\n",
      " 4   payload_prec  8311 non-null    float64\n",
      " 5   payload_solr  123892 non-null  float64\n",
      " 6   payload_tem1  123892 non-null  float64\n",
      "dtypes: bool(1), float64(4), object(2)\n",
      "memory usage: 24.6+ MB\n"
     ]
    },
    {
     "data": {
      "text/html": [
       "<div>\n",
       "<style scoped>\n",
       "    .dataframe tbody tr th:only-of-type {\n",
       "        vertical-align: middle;\n",
       "    }\n",
       "\n",
       "    .dataframe tbody tr th {\n",
       "        vertical-align: top;\n",
       "    }\n",
       "\n",
       "    .dataframe thead th {\n",
       "        text-align: right;\n",
       "    }\n",
       "</style>\n",
       "<table border=\"1\" class=\"dataframe\">\n",
       "  <thead>\n",
       "    <tr style=\"text-align: right;\">\n",
       "      <th></th>\n",
       "      <th>id</th>\n",
       "      <th>processed</th>\n",
       "      <th>payload_DID</th>\n",
       "      <th>payload_hum1</th>\n",
       "      <th>payload_prec</th>\n",
       "      <th>payload_solr</th>\n",
       "      <th>payload_tem1</th>\n",
       "    </tr>\n",
       "    <tr>\n",
       "      <th>payload_TMS</th>\n",
       "      <th></th>\n",
       "      <th></th>\n",
       "      <th></th>\n",
       "      <th></th>\n",
       "      <th></th>\n",
       "      <th></th>\n",
       "      <th></th>\n",
       "    </tr>\n",
       "  </thead>\n",
       "  <tbody>\n",
       "    <tr>\n",
       "      <th>2000-01-01 00:00:02</th>\n",
       "      <td>603d5a289b6589e416fcecea</td>\n",
       "      <td>False</td>\n",
       "      <td>5_157</td>\n",
       "      <td>NaN</td>\n",
       "      <td>NaN</td>\n",
       "      <td>NaN</td>\n",
       "      <td>NaN</td>\n",
       "    </tr>\n",
       "    <tr>\n",
       "      <th>2000-01-01 00:00:02</th>\n",
       "      <td>603f92c39b65893de5fdb44d</td>\n",
       "      <td>False</td>\n",
       "      <td>5_156</td>\n",
       "      <td>NaN</td>\n",
       "      <td>NaN</td>\n",
       "      <td>NaN</td>\n",
       "      <td>NaN</td>\n",
       "    </tr>\n",
       "    <tr>\n",
       "      <th>2000-01-01 00:00:02</th>\n",
       "      <td>603969629b65890793fb554c</td>\n",
       "      <td>False</td>\n",
       "      <td>5_156</td>\n",
       "      <td>NaN</td>\n",
       "      <td>NaN</td>\n",
       "      <td>NaN</td>\n",
       "      <td>NaN</td>\n",
       "    </tr>\n",
       "    <tr>\n",
       "      <th>2000-01-01 00:00:02</th>\n",
       "      <td>603ab25e9b65892bf9fbbe7b</td>\n",
       "      <td>False</td>\n",
       "      <td>5_157</td>\n",
       "      <td>NaN</td>\n",
       "      <td>NaN</td>\n",
       "      <td>NaN</td>\n",
       "      <td>NaN</td>\n",
       "    </tr>\n",
       "    <tr>\n",
       "      <th>2000-01-01 00:00:02</th>\n",
       "      <td>603ab3da9b65894f21fbbf63</td>\n",
       "      <td>False</td>\n",
       "      <td>5_150</td>\n",
       "      <td>NaN</td>\n",
       "      <td>NaN</td>\n",
       "      <td>NaN</td>\n",
       "      <td>NaN</td>\n",
       "    </tr>\n",
       "  </tbody>\n",
       "</table>\n",
       "</div>"
      ],
      "text/plain": [
       "                                           id  processed payload_DID  \\\n",
       "payload_TMS                                                            \n",
       "2000-01-01 00:00:02  603d5a289b6589e416fcecea      False       5_157   \n",
       "2000-01-01 00:00:02  603f92c39b65893de5fdb44d      False       5_156   \n",
       "2000-01-01 00:00:02  603969629b65890793fb554c      False       5_156   \n",
       "2000-01-01 00:00:02  603ab25e9b65892bf9fbbe7b      False       5_157   \n",
       "2000-01-01 00:00:02  603ab3da9b65894f21fbbf63      False       5_150   \n",
       "\n",
       "                     payload_hum1  payload_prec  payload_solr  payload_tem1  \n",
       "payload_TMS                                                                  \n",
       "2000-01-01 00:00:02           NaN           NaN           NaN           NaN  \n",
       "2000-01-01 00:00:02           NaN           NaN           NaN           NaN  \n",
       "2000-01-01 00:00:02           NaN           NaN           NaN           NaN  \n",
       "2000-01-01 00:00:02           NaN           NaN           NaN           NaN  \n",
       "2000-01-01 00:00:02           NaN           NaN           NaN           NaN  "
      ]
     },
     "execution_count": 164,
     "metadata": {},
     "output_type": "execute_result"
    }
   ],
   "source": [
    "print(datetime.now())\n",
    "print(base.payload_TMS.head())\n",
    "base.set_index('payload_TMS', inplace=True)\n",
    "base.info()\n",
    "base.head()"
   ]
  },
  {
   "cell_type": "code",
   "execution_count": 165,
   "id": "dedicated-remains",
   "metadata": {},
   "outputs": [
    {
     "name": "stdout",
     "output_type": "stream",
     "text": [
      "False\n"
     ]
    },
    {
     "data": {
      "text/html": [
       "<div>\n",
       "<style scoped>\n",
       "    .dataframe tbody tr th:only-of-type {\n",
       "        vertical-align: middle;\n",
       "    }\n",
       "\n",
       "    .dataframe tbody tr th {\n",
       "        vertical-align: top;\n",
       "    }\n",
       "\n",
       "    .dataframe thead th {\n",
       "        text-align: right;\n",
       "    }\n",
       "</style>\n",
       "<table border=\"1\" class=\"dataframe\">\n",
       "  <thead>\n",
       "    <tr style=\"text-align: right;\">\n",
       "      <th></th>\n",
       "      <th>id</th>\n",
       "      <th>processed</th>\n",
       "      <th>payload_DID</th>\n",
       "      <th>payload_hum1</th>\n",
       "      <th>payload_prec</th>\n",
       "      <th>payload_solr</th>\n",
       "      <th>payload_tem1</th>\n",
       "    </tr>\n",
       "    <tr>\n",
       "      <th>payload_TMS</th>\n",
       "      <th></th>\n",
       "      <th></th>\n",
       "      <th></th>\n",
       "      <th></th>\n",
       "      <th></th>\n",
       "      <th></th>\n",
       "      <th></th>\n",
       "    </tr>\n",
       "  </thead>\n",
       "  <tbody>\n",
       "    <tr>\n",
       "      <th>2021-03-05 12:15:06</th>\n",
       "      <td>604221129b65892dfefe914e</td>\n",
       "      <td>False</td>\n",
       "      <td>5_49</td>\n",
       "      <td>NaN</td>\n",
       "      <td>NaN</td>\n",
       "      <td>NaN</td>\n",
       "      <td>NaN</td>\n",
       "    </tr>\n",
       "    <tr>\n",
       "      <th>2021-03-05 12:15:51</th>\n",
       "      <td>604221079b65895b96fe914c</td>\n",
       "      <td>False</td>\n",
       "      <td>1_125</td>\n",
       "      <td>59.8</td>\n",
       "      <td>NaN</td>\n",
       "      <td>331.0</td>\n",
       "      <td>6.9</td>\n",
       "    </tr>\n",
       "    <tr>\n",
       "      <th>2021-03-05 12:15:51</th>\n",
       "      <td>604221159b65891caffe914f</td>\n",
       "      <td>False</td>\n",
       "      <td>1_63</td>\n",
       "      <td>82.2</td>\n",
       "      <td>NaN</td>\n",
       "      <td>185.0</td>\n",
       "      <td>17.7</td>\n",
       "    </tr>\n",
       "    <tr>\n",
       "      <th>2021-03-05 12:16:16</th>\n",
       "      <td>604221339b6589635ffe9157</td>\n",
       "      <td>False</td>\n",
       "      <td>1_101</td>\n",
       "      <td>77.6</td>\n",
       "      <td>NaN</td>\n",
       "      <td>160.0</td>\n",
       "      <td>17.2</td>\n",
       "    </tr>\n",
       "    <tr>\n",
       "      <th>2021-03-05 12:16:36</th>\n",
       "      <td>604221419b65897d66fe915a</td>\n",
       "      <td>False</td>\n",
       "      <td>1_51</td>\n",
       "      <td>95.0</td>\n",
       "      <td>NaN</td>\n",
       "      <td>92.0</td>\n",
       "      <td>16.8</td>\n",
       "    </tr>\n",
       "  </tbody>\n",
       "</table>\n",
       "</div>"
      ],
      "text/plain": [
       "                                           id  processed payload_DID  \\\n",
       "payload_TMS                                                            \n",
       "2021-03-05 12:15:06  604221129b65892dfefe914e      False        5_49   \n",
       "2021-03-05 12:15:51  604221079b65895b96fe914c      False       1_125   \n",
       "2021-03-05 12:15:51  604221159b65891caffe914f      False        1_63   \n",
       "2021-03-05 12:16:16  604221339b6589635ffe9157      False       1_101   \n",
       "2021-03-05 12:16:36  604221419b65897d66fe915a      False        1_51   \n",
       "\n",
       "                     payload_hum1  payload_prec  payload_solr  payload_tem1  \n",
       "payload_TMS                                                                  \n",
       "2021-03-05 12:15:06           NaN           NaN           NaN           NaN  \n",
       "2021-03-05 12:15:51          59.8           NaN         331.0           6.9  \n",
       "2021-03-05 12:15:51          82.2           NaN         185.0          17.7  \n",
       "2021-03-05 12:16:16          77.6           NaN         160.0          17.2  \n",
       "2021-03-05 12:16:36          95.0           NaN          92.0          16.8  "
      ]
     },
     "execution_count": 165,
     "metadata": {},
     "output_type": "execute_result"
    }
   ],
   "source": [
    "print(pd.Index(base).is_all_dates)\n",
    "base.head()\n",
    "base.tail()"
   ]
  },
  {
   "cell_type": "code",
   "execution_count": 166,
   "id": "exceptional-variable",
   "metadata": {},
   "outputs": [],
   "source": [
    "def PlotIndexSet(x_axis, y_axis, df ):\n",
    "    \"\"\"\n",
    "    Plot a column of a dataframe. x_axis is the index.\n",
    "    x_axis (str)\n",
    "    y_axis (str)\n",
    "    \"\"\"\n",
    "    plt.figure(figsize=(15, 7))\n",
    "    plt.plot(df[y_axis])\n",
    "    title = 'Variable '+ y_axis + ' watched over ' + x_axis +'.'\n",
    "    plt.title(title)\n",
    "    plt.grid(True)\n",
    "    plt.show()\n",
    "    print(df.head())\n",
    "    \n"
   ]
  },
  {
   "cell_type": "code",
   "execution_count": 167,
   "id": "front-cattle",
   "metadata": {},
   "outputs": [
    {
     "data": {
      "image/png": "[encoded data removed]",
      "text/plain": [
       "<Figure size 1080x504 with 1 Axes>"
      ]
     },
     "metadata": {
      "needs_background": "light"
     },
     "output_type": "display_data"
    },
    {
     "name": "stdout",
     "output_type": "stream",
     "text": [
      "                                           id  processed payload_DID  \\\n",
      "payload_TMS                                                            \n",
      "2000-01-01 00:00:02  603d5a289b6589e416fcecea      False       5_157   \n",
      "2000-01-01 00:00:02  603f92c39b65893de5fdb44d      False       5_156   \n",
      "2000-01-01 00:00:02  603969629b65890793fb554c      False       5_156   \n",
      "2000-01-01 00:00:02  603ab25e9b65892bf9fbbe7b      False       5_157   \n",
      "2000-01-01 00:00:02  603ab3da9b65894f21fbbf63      False       5_150   \n",
      "\n",
      "                     payload_hum1  payload_prec  payload_solr  payload_tem1  \n",
      "payload_TMS                                                                  \n",
      "2000-01-01 00:00:02           NaN           NaN           NaN           NaN  \n",
      "2000-01-01 00:00:02           NaN           NaN           NaN           NaN  \n",
      "2000-01-01 00:00:02           NaN           NaN           NaN           NaN  \n",
      "2000-01-01 00:00:02           NaN           NaN           NaN           NaN  \n",
      "2000-01-01 00:00:02           NaN           NaN           NaN           NaN  \n"
     ]
    }
   ],
   "source": [
    "PlotIndexSet(df=base, x_axis='payload_TMS', y_axis='payload_tem1')"
   ]
  },
  {
   "cell_type": "code",
   "execution_count": 168,
   "id": "upper-welsh",
   "metadata": {},
   "outputs": [
    {
     "data": {
      "image/png": "[encoded data removed]",
      "text/plain": [
       "<Figure size 1080x504 with 1 Axes>"
      ]
     },
     "metadata": {
      "needs_background": "light"
     },
     "output_type": "display_data"
    },
    {
     "name": "stdout",
     "output_type": "stream",
     "text": [
      "                                           id  processed payload_DID  \\\n",
      "payload_TMS                                                            \n",
      "2000-01-01 00:00:02  603d5a289b6589e416fcecea      False       5_157   \n",
      "2000-01-01 00:00:02  603f92c39b65893de5fdb44d      False       5_156   \n",
      "2000-01-01 00:00:02  603969629b65890793fb554c      False       5_156   \n",
      "2000-01-01 00:00:02  603ab25e9b65892bf9fbbe7b      False       5_157   \n",
      "2000-01-01 00:00:02  603ab3da9b65894f21fbbf63      False       5_150   \n",
      "\n",
      "                     payload_hum1  payload_prec  payload_solr  payload_tem1  \n",
      "payload_TMS                                                                  \n",
      "2000-01-01 00:00:02           NaN           NaN           NaN           NaN  \n",
      "2000-01-01 00:00:02           NaN           NaN           NaN           NaN  \n",
      "2000-01-01 00:00:02           NaN           NaN           NaN           NaN  \n",
      "2000-01-01 00:00:02           NaN           NaN           NaN           NaN  \n",
      "2000-01-01 00:00:02           NaN           NaN           NaN           NaN  \n"
     ]
    }
   ],
   "source": [
    "PlotIndexSet(df=base, x_axis='payload_TMS', y_axis='payload_hum1')"
   ]
  },
  {
   "cell_type": "code",
   "execution_count": 169,
   "id": "fantastic-description",
   "metadata": {},
   "outputs": [
    {
     "data": {
      "image/png": "[encoded data removed]",
      "text/plain": [
       "<Figure size 1080x504 with 1 Axes>"
      ]
     },
     "metadata": {
      "needs_background": "light"
     },
     "output_type": "display_data"
    },
    {
     "name": "stdout",
     "output_type": "stream",
     "text": [
      "                                           id  processed payload_DID  \\\n",
      "payload_TMS                                                            \n",
      "2000-01-01 00:00:02  603d5a289b6589e416fcecea      False       5_157   \n",
      "2000-01-01 00:00:02  603f92c39b65893de5fdb44d      False       5_156   \n",
      "2000-01-01 00:00:02  603969629b65890793fb554c      False       5_156   \n",
      "2000-01-01 00:00:02  603ab25e9b65892bf9fbbe7b      False       5_157   \n",
      "2000-01-01 00:00:02  603ab3da9b65894f21fbbf63      False       5_150   \n",
      "\n",
      "                     payload_hum1  payload_prec  payload_solr  payload_tem1  \n",
      "payload_TMS                                                                  \n",
      "2000-01-01 00:00:02           NaN           NaN           NaN           NaN  \n",
      "2000-01-01 00:00:02           NaN           NaN           NaN           NaN  \n",
      "2000-01-01 00:00:02           NaN           NaN           NaN           NaN  \n",
      "2000-01-01 00:00:02           NaN           NaN           NaN           NaN  \n",
      "2000-01-01 00:00:02           NaN           NaN           NaN           NaN  \n"
     ]
    }
   ],
   "source": [
    "PlotIndexSet(df=base, x_axis='payload_TMS', y_axis='payload_solr')"
   ]
  },
  {
   "cell_type": "code",
   "execution_count": 149,
   "id": "joined-reliance",
   "metadata": {},
   "outputs": [
    {
     "data": {
      "text/html": [
       "<div>\n",
       "<style scoped>\n",
       "    .dataframe tbody tr th:only-of-type {\n",
       "        vertical-align: middle;\n",
       "    }\n",
       "\n",
       "    .dataframe tbody tr th {\n",
       "        vertical-align: top;\n",
       "    }\n",
       "\n",
       "    .dataframe thead th {\n",
       "        text-align: right;\n",
       "    }\n",
       "</style>\n",
       "<table border=\"1\" class=\"dataframe\">\n",
       "  <thead>\n",
       "    <tr style=\"text-align: right;\">\n",
       "      <th></th>\n",
       "      <th>id</th>\n",
       "      <th>processed</th>\n",
       "      <th>payload_DID</th>\n",
       "      <th>payload_hum1</th>\n",
       "      <th>payload_prec</th>\n",
       "      <th>payload_solr</th>\n",
       "      <th>payload_tem1</th>\n",
       "    </tr>\n",
       "    <tr>\n",
       "      <th>payload_TMS</th>\n",
       "      <th></th>\n",
       "      <th></th>\n",
       "      <th></th>\n",
       "      <th></th>\n",
       "      <th></th>\n",
       "      <th></th>\n",
       "      <th></th>\n",
       "    </tr>\n",
       "  </thead>\n",
       "  <tbody>\n",
       "    <tr>\n",
       "      <th>2021-02-16 18:13:38</th>\n",
       "      <td>602c0fae61c8cf27e36283d8</td>\n",
       "      <td>False</td>\n",
       "      <td>18_84</td>\n",
       "      <td>95.6</td>\n",
       "      <td>NaN</td>\n",
       "      <td>31.0</td>\n",
       "      <td>3.8</td>\n",
       "    </tr>\n",
       "    <tr>\n",
       "      <th>2021-02-16 18:14:08</th>\n",
       "      <td>602c0fb361c8cf27e36283d9</td>\n",
       "      <td>False</td>\n",
       "      <td>3_33</td>\n",
       "      <td>NaN</td>\n",
       "      <td>NaN</td>\n",
       "      <td>NaN</td>\n",
       "      <td>NaN</td>\n",
       "    </tr>\n",
       "    <tr>\n",
       "      <th>2021-02-16 18:23:14</th>\n",
       "      <td>602c0fbd61c8cf27e36283da</td>\n",
       "      <td>False</td>\n",
       "      <td>5_47</td>\n",
       "      <td>NaN</td>\n",
       "      <td>NaN</td>\n",
       "      <td>NaN</td>\n",
       "      <td>NaN</td>\n",
       "    </tr>\n",
       "    <tr>\n",
       "      <th>2021-02-16 18:17:18</th>\n",
       "      <td>602c0fbe61c8cf27e36283db</td>\n",
       "      <td>False</td>\n",
       "      <td>5_182</td>\n",
       "      <td>NaN</td>\n",
       "      <td>NaN</td>\n",
       "      <td>NaN</td>\n",
       "      <td>NaN</td>\n",
       "    </tr>\n",
       "    <tr>\n",
       "      <th>2021-02-16 18:32:09</th>\n",
       "      <td>602c0fc061c8cf27e36283dc</td>\n",
       "      <td>False</td>\n",
       "      <td>1_59</td>\n",
       "      <td>74.8</td>\n",
       "      <td>NaN</td>\n",
       "      <td>138.0</td>\n",
       "      <td>18.7</td>\n",
       "    </tr>\n",
       "  </tbody>\n",
       "</table>\n",
       "</div>"
      ],
      "text/plain": [
       "                                           id  processed payload_DID  \\\n",
       "payload_TMS                                                            \n",
       "2021-02-16 18:13:38  602c0fae61c8cf27e36283d8      False       18_84   \n",
       "2021-02-16 18:14:08  602c0fb361c8cf27e36283d9      False        3_33   \n",
       "2021-02-16 18:23:14  602c0fbd61c8cf27e36283da      False        5_47   \n",
       "2021-02-16 18:17:18  602c0fbe61c8cf27e36283db      False       5_182   \n",
       "2021-02-16 18:32:09  602c0fc061c8cf27e36283dc      False        1_59   \n",
       "\n",
       "                     payload_hum1  payload_prec  payload_solr  payload_tem1  \n",
       "payload_TMS                                                                  \n",
       "2021-02-16 18:13:38          95.6           NaN          31.0           3.8  \n",
       "2021-02-16 18:14:08           NaN           NaN           NaN           NaN  \n",
       "2021-02-16 18:23:14           NaN           NaN           NaN           NaN  \n",
       "2021-02-16 18:17:18           NaN           NaN           NaN           NaN  \n",
       "2021-02-16 18:32:09          74.8           NaN         138.0          18.7  "
      ]
     },
     "execution_count": 149,
     "metadata": {},
     "output_type": "execute_result"
    }
   ],
   "source": [
    "base.head()"
   ]
  },
  {
   "cell_type": "code",
   "execution_count": 45,
   "id": "postal-hands",
   "metadata": {},
   "outputs": [
    {
     "data": {
      "image/png": "[encoded data removed]",
      "text/plain": [
       "<Figure size 1080x504 with 1 Axes>"
      ]
     },
     "metadata": {
      "needs_background": "light"
     },
     "output_type": "display_data"
    }
   ],
   "source": [
    "base.set_index(\"payload_TMS\")\n",
    "plt.figure(figsize=(15, 7))\n",
    "plt.plot(base.payload_tem1)\n",
    "plt.title('Temperature watched over time')\n",
    "plt.grid(True)\n",
    "plt.show()\n"
   ]
  },
  {
   "cell_type": "code",
   "execution_count": null,
   "id": "younger-steel",
   "metadata": {},
   "outputs": [],
   "source": []
  },
  {
   "cell_type": "markdown",
   "id": "quantitative-lloyd",
   "metadata": {},
   "source": [
    "## Variables\n",
    "    (RH)   -    Relative humidity \n",
    "    (T)    -    Temperature\n",
    "    (OT)   -    Optimal temperature"
   ]
  },
  {
   "cell_type": "markdown",
   "id": "attempted-stereo",
   "metadata": {},
   "source": [
    "# Conditions\n",
    "\n",
    "\n",
    "### for germination\n",
    "\n",
    "RH > 60%\n",
    "15.5C < T   < 30C\n",
    "18C   < OT  < 30C\n",
    "RH + OT = high risk when sporulation - thus allows growers to spray fungicide at the optimal time to prevent primary infection. \n",
    "\n"
   ]
  },
  {
   "cell_type": "code",
   "execution_count": 46,
   "id": "charming-reaction",
   "metadata": {},
   "outputs": [
    {
     "data": {
      "text/plain": [
       "459556"
      ]
     },
     "execution_count": 46,
     "metadata": {},
     "output_type": "execute_result"
    }
   ],
   "source": [
    "df[\"payload.DID\"].unique()\n",
    "len(df[\"_id\"].unique())"
   ]
  },
  {
   "cell_type": "code",
   "execution_count": null,
   "id": "czech-slope",
   "metadata": {},
   "outputs": [],
   "source": []
  },
  {
   "cell_type": "code",
   "execution_count": null,
   "id": "spectacular-correspondence",
   "metadata": {},
   "outputs": [],
   "source": []
  },
  {
   "cell_type": "code",
   "execution_count": null,
   "id": "formed-coupon",
   "metadata": {},
   "outputs": [],
   "source": []
  },
  {
   "cell_type": "code",
   "execution_count": null,
   "id": "governmental-bridge",
   "metadata": {},
   "outputs": [],
   "source": []
  }
 ],
 "metadata": {
  "kernelspec": {
   "display_name": "Python 3",
   "language": "python",
   "name": "python3"
  },
  "language_info": {
   "codemirror_mode": {
    "name": "ipython",
    "version": 3
   },
   "file_extension": ".py",
   "mimetype": "text/x-python",
   "name": "python",
   "nbconvert_exporter": "python",
   "pygments_lexer": "ipython3",
   "version": "3.8.8"
  }
 },
 "nbformat": 4,
 "nbformat_minor": 5
}
