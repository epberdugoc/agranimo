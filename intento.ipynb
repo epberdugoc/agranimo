{
 "cells": [
  {
   "cell_type": "code",
   "execution_count": 34,
   "id": "cubic-collect",
   "metadata": {},
   "outputs": [
    {
     "name": "stdout",
     "output_type": "stream",
     "text": [
      "2021-03-10 02:24:46.364106\n",
      "/Volumes/GoogleDrive/My Drive/01_Mac2021/05_Work/00_Pruebas técnicas/01_software_engenieer/00_agranimo\n"
     ]
    }
   ],
   "source": [
    "from datetime import datetime\n",
    "print(datetime.now())\n",
    "import os\n",
    "print(os.getcwd())\n",
    "\n",
    "#====\n",
    "import numpy as np\n",
    "import pandas as pd\n",
    "import pandasql\n",
    "#import sqlalchemy\n",
    "import pymongo\n",
    "\n",
    "df = pd.read_csv(\"docs/Event.csv\", parse_dates = [\"payload.TMS\"])\n"
   ]
  },
  {
   "cell_type": "markdown",
   "id": "polish-semiconductor",
   "metadata": {},
   "source": [
    "##### Let's check the columns in our database"
   ]
  },
  {
   "cell_type": "code",
   "execution_count": 35,
   "id": "false-heavy",
   "metadata": {},
   "outputs": [
    {
     "name": "stdout",
     "output_type": "stream",
     "text": [
      "['_id', 'processed', 'payload.DID', 'payload.hum1', 'payload.TMS', 'payload.prec', 'payload.solr', 'payload.tem1']\n",
      "<class 'pandas.core.frame.DataFrame'>\n",
      "RangeIndex: 459556 entries, 0 to 459555\n",
      "Data columns (total 8 columns):\n",
      " #   Column        Non-Null Count   Dtype  \n",
      "---  ------        --------------   -----  \n",
      " 0   _id           459556 non-null  object \n",
      " 1   processed     459556 non-null  bool   \n",
      " 2   payload.DID   459556 non-null  object \n",
      " 3   payload.hum1  123892 non-null  float64\n",
      " 4   payload.TMS   452372 non-null  object \n",
      " 5   payload.prec  8311 non-null    float64\n",
      " 6   payload.solr  123892 non-null  float64\n",
      " 7   payload.tem1  123892 non-null  float64\n",
      "dtypes: bool(1), float64(4), object(3)\n",
      "memory usage: 25.0+ MB\n"
     ]
    }
   ],
   "source": [
    "#df.head()\n",
    "#df.info()\n",
    "\n",
    "\n",
    "#Columns refered to payload\n",
    "columns_payload = [col for col in df.columns if col.startswith(\"payload\")]\n",
    "\n",
    "#Columns refered to packet \n",
    "columns_packet = [col for col in df.columns if col.startswith(\"packet\")]\n",
    "\n",
    "columns = [\"_id\",\n",
    "           \"processed\",\n",
    "           \"payload.DID\",\n",
    "           \"payload.hum1\",\n",
    "           \"payload.TMS\",\n",
    "           \"payload.prec\",\n",
    "           \"payload.solr\",\n",
    "           \"payload.tem1\",\n",
    "          ]\n",
    "\n",
    "\n",
    "print(columns)\n",
    "base = df[columns]\n",
    "base.info()"
   ]
  },
  {
   "cell_type": "code",
   "execution_count": 39,
   "id": "reserved-boating",
   "metadata": {},
   "outputs": [
    {
     "name": "stdout",
     "output_type": "stream",
     "text": [
      "0        NaT\n",
      "1        NaT\n",
      "2        NaT\n",
      "3        NaT\n",
      "4        NaT\n",
      "          ..\n",
      "459551   NaT\n",
      "459552   NaT\n",
      "459553   NaT\n",
      "459554   NaT\n",
      "459555   NaT\n",
      "Name: payload.TMS, Length: 459556, dtype: datetime64[ns]\n",
      "\n",
      "_id                     object\n",
      "processed                 bool\n",
      "payload.DID             object\n",
      "payload.hum1           float64\n",
      "payload.TMS     datetime64[ns]\n",
      "payload.prec           float64\n",
      "payload.solr           float64\n",
      "payload.tem1           float64\n",
      "dtype: object\n",
      "<class 'pandas.core.frame.DataFrame'>\n",
      "RangeIndex: 459556 entries, 0 to 459555\n",
      "Data columns (total 8 columns):\n",
      " #   Column        Non-Null Count   Dtype         \n",
      "---  ------        --------------   -----         \n",
      " 0   _id           459556 non-null  object        \n",
      " 1   processed     459556 non-null  bool          \n",
      " 2   payload.DID   459556 non-null  object        \n",
      " 3   payload.hum1  123892 non-null  float64       \n",
      " 4   payload.TMS   0 non-null       datetime64[ns]\n",
      " 5   payload.prec  8311 non-null    float64       \n",
      " 6   payload.solr  123892 non-null  float64       \n",
      " 7   payload.tem1  123892 non-null  float64       \n",
      "dtypes: bool(1), datetime64[ns](1), float64(4), object(2)\n",
      "memory usage: 25.0+ MB\n"
     ]
    },
    {
     "name": "stderr",
     "output_type": "stream",
     "text": [
      "<ipython-input-39-131108096aa3>:2: SettingWithCopyWarning: \n",
      "A value is trying to be set on a copy of a slice from a DataFrame.\n",
      "Try using .loc[row_indexer,col_indexer] = value instead\n",
      "\n",
      "See the caveats in the documentation: https://pandas.pydata.org/pandas-docs/stable/user_guide/indexing.html#returning-a-view-versus-a-copy\n",
      "  base[\"payload.TMS\"] = pd.to_datetime(base[\"payload.TMS\"], format='%Y%m%d%H%M%S', errors = 'coerce')\n"
     ]
    }
   ],
   "source": [
    "base[\"payload.TMS\"].head()\n",
    "base[\"payload.TMS\"] = pd.to_datetime(base[\"payload.TMS\"], format='%Y%m%d%H%M%S', errors = 'coerce')\n",
    "print(base[\"payload.TMS\"]) \n",
    "print() \n",
    "#Convert timestamp  \n",
    "print(base.dtypes)\n",
    "base.info()"
   ]
  },
  {
   "cell_type": "markdown",
   "id": "quantitative-lloyd",
   "metadata": {},
   "source": [
    "## Variables\n",
    "    (RH)   -    Relative humidity \n",
    "    (T)    -    Temperature\n",
    "    (OT)   -    Optimal temperature"
   ]
  },
  {
   "cell_type": "markdown",
   "id": "attempted-stereo",
   "metadata": {},
   "source": [
    "# Conditions\n",
    "\n",
    "\n",
    "### for germination\n",
    "\n",
    "RH > 60%\n",
    "15.5C < T   < 30C\n",
    "18C   < OT  < 30C\n",
    "RH + OT = high risk when sporulation - thus allows growers to spray fungicide at the optimal time to prevent primary infection. \n",
    "\n"
   ]
  },
  {
   "cell_type": "code",
   "execution_count": 46,
   "id": "charming-reaction",
   "metadata": {},
   "outputs": [
    {
     "data": {
      "text/plain": [
       "459556"
      ]
     },
     "execution_count": 46,
     "metadata": {},
     "output_type": "execute_result"
    }
   ],
   "source": [
    "df[\"payload.DID\"].unique()\n",
    "len(df[\"_id\"].unique())"
   ]
  },
  {
   "cell_type": "code",
   "execution_count": null,
   "id": "czech-slope",
   "metadata": {},
   "outputs": [],
   "source": []
  },
  {
   "cell_type": "code",
   "execution_count": null,
   "id": "spectacular-correspondence",
   "metadata": {},
   "outputs": [],
   "source": []
  },
  {
   "cell_type": "code",
   "execution_count": null,
   "id": "formed-coupon",
   "metadata": {},
   "outputs": [],
   "source": []
  },
  {
   "cell_type": "code",
   "execution_count": null,
   "id": "governmental-bridge",
   "metadata": {},
   "outputs": [],
   "source": []
  }
 ],
 "metadata": {
  "kernelspec": {
   "display_name": "Python 3",
   "language": "python",
   "name": "python3"
  },
  "language_info": {
   "codemirror_mode": {
    "name": "ipython",
    "version": 3
   },
   "file_extension": ".py",
   "mimetype": "text/x-python",
   "name": "python",
   "nbconvert_exporter": "python",
   "pygments_lexer": "ipython3",
   "version": "3.8.8"
  }
 },
 "nbformat": 4,
 "nbformat_minor": 5
}
