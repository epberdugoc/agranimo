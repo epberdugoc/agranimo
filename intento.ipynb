{
 "cells": [
  {
   "cell_type": "code",
   "execution_count": 17,
   "id": "durable-service",
   "metadata": {},
   "outputs": [
    {
     "name": "stdout",
     "output_type": "stream",
     "text": [
      "2021-03-09 21:19:13.443909\n"
     ]
    }
   ],
   "source": [
    "from datetime import datetime\n",
    "print(datetime.now())\n",
    "import os\n",
    "prinos.getcwd())\n",
    "\n",
    "#====\n",
    "import numpy as np\n",
    "import pandas as pd\n",
    "import pandasql\n",
    "#import sqlalchemy\n",
    "import pymongo\n",
    "\n",
    "df = pd.read_csv(\"docs/Event.csv\")\n"
   ]
  },
  {
   "cell_type": "markdown",
   "id": "recent-fundamental",
   "metadata": {},
   "source": [
    "##### Let's check the columns in our database"
   ]
  },
  {
   "cell_type": "code",
   "execution_count": 44,
   "id": "civic-elements",
   "metadata": {},
   "outputs": [
    {
     "name": "stdout",
     "output_type": "stream",
     "text": [
      "<class 'pandas.core.frame.DataFrame'>\n",
      "RangeIndex: 459556 entries, 0 to 459555\n",
      "Data columns (total 34 columns):\n",
      " #   Column          Non-Null Count   Dtype  \n",
      "---  ------          --------------   -----  \n",
      " 0   _id             459556 non-null  object \n",
      " 1   createdAt       459556 non-null  object \n",
      " 2   packet.cmd      459556 non-null  object \n",
      " 3   packet.dup      459556 non-null  bool   \n",
      " 4   packet.length   459556 non-null  int64  \n",
      " 5   packet.payload  459556 non-null  object \n",
      " 6   packet.qos      459556 non-null  int64  \n",
      " 7   packet.retain   459556 non-null  bool   \n",
      " 8   packet.topic    459556 non-null  object \n",
      " 9   payload.BFMW    340043 non-null  float64\n",
      " 10  payload.BSID    340043 non-null  object \n",
      " 11  payload.DID     459556 non-null  object \n",
      " 12  payload.FMW     452372 non-null  float64\n",
      " 13  payload.TMS     452372 non-null  float64\n",
      " 14  payload.bvol    452372 non-null  float64\n",
      " 15  payload.hum1    123892 non-null  float64\n",
      " 16  payload.lwet    35617 non-null   float64\n",
      " 17  payload.prec    8311 non-null    float64\n",
      " 18  payload.sea1    12959 non-null   float64\n",
      " 19  payload.sec1    12959 non-null   float64\n",
      " 20  payload.smo1    315521 non-null  float64\n",
      " 21  payload.smo2    306245 non-null  float64\n",
      " 22  payload.smo3    295858 non-null  float64\n",
      " 23  payload.smo4    295858 non-null  float64\n",
      " 24  payload.solr    123892 non-null  float64\n",
      " 25  payload.stm1    328480 non-null  float64\n",
      " 26  payload.stm2    306245 non-null  float64\n",
      " 27  payload.stm3    295858 non-null  float64\n",
      " 28  payload.stm4    295858 non-null  float64\n",
      " 29  payload.tem1    123892 non-null  float64\n",
      " 30  payload.wind    4807 non-null    float64\n",
      " 31  payload.wins    4807 non-null    float64\n",
      " 32  processed       459556 non-null  bool   \n",
      " 33  topic           459556 non-null  object \n",
      "dtypes: bool(3), float64(21), int64(2), object(8)\n",
      "memory usage: 110.0+ MB\n"
     ]
    },
    {
     "data": {
      "text/plain": [
       "True"
      ]
     },
     "execution_count": 44,
     "metadata": {},
     "output_type": "execute_result"
    }
   ],
   "source": [
    "df.head()\n",
    "df.info()\n",
    "\n",
    "\n",
    "#Columns refered to payload\n",
    "columns_payload = [col for col in df.columns if col.startswith(\"payload\")]\n",
    "\n",
    "#Columns refered to packet \n",
    "columns_packet = [col for col in df.columns if col.startswith(\"packet\")]\n",
    "\n",
    "basic_columns = [\"_id\",\n",
    "                 \"processed\",\n",
    "                ]\n",
    "\n",
    "interesting_variables = [\"DID\"]\n",
    "\n",
    "#for col in columns_payload:\n",
    "#    if col.endswith(\"hum1\", \"tem1\"):\n",
    "#        basic_columns = basic_columns.append()\n",
    "\n",
    "#basic_columns"
   ]
  },
  {
   "cell_type": "code",
   "execution_count": 26,
   "id": "accomplished-lawrence",
   "metadata": {},
   "outputs": [
    {
     "data": {
      "text/plain": [
       "Index(['_id', 'createdAt', 'packet.cmd', 'packet.dup', 'packet.length',\n",
       "       'packet.payload', 'packet.qos', 'packet.retain', 'packet.topic',\n",
       "       'payload.BFMW', 'payload.BSID', 'payload.DID', 'payload.FMW',\n",
       "       'payload.TMS', 'payload.bvol', 'payload.hum1', 'payload.lwet',\n",
       "       'payload.prec', 'payload.sea1', 'payload.sec1', 'payload.smo1',\n",
       "       'payload.smo2', 'payload.smo3', 'payload.smo4', 'payload.solr',\n",
       "       'payload.stm1', 'payload.stm2', 'payload.stm3', 'payload.stm4',\n",
       "       'payload.tem1', 'payload.wind', 'payload.wins', 'processed', 'topic'],\n",
       "      dtype='object')"
      ]
     },
     "execution_count": 26,
     "metadata": {},
     "output_type": "execute_result"
    }
   ],
   "source": [
    "df.head()\n",
    "df.columns"
   ]
  },
  {
   "cell_type": "markdown",
   "id": "promising-driver",
   "metadata": {},
   "source": [
    "## Variables\n",
    "    (RH)   -    Relative humidity \n",
    "    (T)    -    Temperature\n",
    "    (OT)   -    Optimal temperature"
   ]
  },
  {
   "cell_type": "markdown",
   "id": "deluxe-generator",
   "metadata": {},
   "source": [
    "# Conditions\n",
    "\n",
    "\n",
    "### for germination\n",
    "\n",
    "RH > 60%\n",
    "15.5C < T   < 30C\n",
    "18C   < OT  < 30C\n",
    "RH + OT = high risk when sporulation - thus allows growers to spray fungicide at the optimal time to prevent primary infection. \n",
    "\n"
   ]
  },
  {
   "cell_type": "code",
   "execution_count": 46,
   "id": "civilian-profile",
   "metadata": {},
   "outputs": [
    {
     "data": {
      "text/plain": [
       "459556"
      ]
     },
     "execution_count": 46,
     "metadata": {},
     "output_type": "execute_result"
    }
   ],
   "source": [
    "df[\"payload.DID\"].unique()\n",
    "len(df[\"_id\"].unique())"
   ]
  },
  {
   "cell_type": "code",
   "execution_count": null,
   "id": "broad-empire",
   "metadata": {},
   "outputs": [],
   "source": []
  },
  {
   "cell_type": "code",
   "execution_count": null,
   "id": "earlier-stable",
   "metadata": {},
   "outputs": [],
   "source": []
  },
  {
   "cell_type": "code",
   "execution_count": null,
   "id": "frozen-situation",
   "metadata": {},
   "outputs": [],
   "source": []
  },
  {
   "cell_type": "code",
   "execution_count": null,
   "id": "activated-hometown",
   "metadata": {},
   "outputs": [],
   "source": []
  }
 ],
 "metadata": {
  "kernelspec": {
   "display_name": "Python 3",
   "language": "python",
   "name": "python3"
  },
  "language_info": {
   "codemirror_mode": {
    "name": "ipython",
    "version": 3
   },
   "file_extension": ".py",
   "mimetype": "text/x-python",
   "name": "python",
   "nbconvert_exporter": "python",
   "pygments_lexer": "ipython3",
   "version": "3.8.8"
  }
 },
 "nbformat": 4,
 "nbformat_minor": 5
}
